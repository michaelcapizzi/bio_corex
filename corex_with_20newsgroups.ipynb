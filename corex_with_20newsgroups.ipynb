{
 "cells": [
  {
   "cell_type": "code",
   "execution_count": 20,
   "metadata": {
    "collapsed": true
   },
   "outputs": [],
   "source": [
    "import corex as cx\n",
    "import vis_corex as vcx\n",
    "from gensim import models\n",
    "import numpy as np\n",
    "from time import time\n",
    "from sklearn.datasets import fetch_20newsgroups\n",
    "from sklearn.feature_extraction.text import CountVectorizer, TfidfVectorizer\n",
    "from os.path import basename\n",
    "from itertools import groupby\n",
    "import re"
   ]
  },
  {
   "cell_type": "markdown",
   "metadata": {},
   "source": [
    "# Load 20Newsgroups"
   ]
  },
  {
   "cell_type": "code",
   "execution_count": 2,
   "metadata": {
    "collapsed": true
   },
   "outputs": [],
   "source": [
    "categories = None\n",
    "remove = (\n",
    "    'headers',\n",
    "    'footers'\n",
    ")"
   ]
  },
  {
   "cell_type": "code",
   "execution_count": 3,
   "metadata": {},
   "outputs": [],
   "source": [
    "data_train = fetch_20newsgroups(subset='train', categories=categories,\n",
    "                                shuffle=True, random_state=42,\n",
    "                                remove=remove)\n",
    "\n",
    "data_test = fetch_20newsgroups(subset='test', categories=categories,\n",
    "                               shuffle=True, random_state=42,\n",
    "                               remove=remove)\n",
    "all_data = data_train.data + data_test.data\n",
    "all_names = [basename(f) for f in data_train.filenames] + [basename(f) for f in data_test.filenames]\n",
    "all_labels = list(enumerate(list(data_train.target) + list(data_test.target)))"
   ]
  },
  {
   "cell_type": "markdown",
   "metadata": {},
   "source": [
    "# vectorize"
   ]
  },
  {
   "cell_type": "code",
   "execution_count": 4,
   "metadata": {
    "collapsed": true
   },
   "outputs": [],
   "source": [
    "binarize = True\n",
    "max_vocab = 10000"
   ]
  },
  {
   "cell_type": "code",
   "execution_count": 5,
   "metadata": {},
   "outputs": [
    {
     "data": {
      "text/plain": [
       "(18846, 10000)"
      ]
     },
     "execution_count": 5,
     "metadata": {},
     "output_type": "execute_result"
    }
   ],
   "source": [
    "vectorized_unigrams = CountVectorizer(\n",
    "    binary=binarize,\n",
    "    max_features=max_vocab\n",
    ")\n",
    "\n",
    "vectorized_data = vectorized_unigrams.fit_transform(all_data).toarray()\n",
    "vectorized_data.shape"
   ]
  },
  {
   "cell_type": "markdown",
   "metadata": {},
   "source": [
    "# Build single layer `CoRex` representation"
   ]
  },
  {
   "cell_type": "markdown",
   "metadata": {},
   "source": [
    "## hyperparameters"
   ]
  },
  {
   "cell_type": "code",
   "execution_count": 6,
   "metadata": {},
   "outputs": [],
   "source": [
    "num_hidden = 20      # number of Y_s; number of clusters?  m?\n",
    "cluster_dim = 2      # dimension of each hidden; k?\n",
    "max_samples = 10000\n",
    "max_iter=20          \n",
    "random_seed = 1978"
   ]
  },
  {
   "cell_type": "markdown",
   "metadata": {},
   "source": [
    "## fit"
   ]
  },
  {
   "cell_type": "code",
   "execution_count": 7,
   "metadata": {},
   "outputs": [
    {
     "name": "stdout",
     "output_type": "stream",
     "text": [
      "corex, rep size: 20 2\n",
      "Marginal description:  discrete\n"
     ]
    }
   ],
   "source": [
    "corex_layer_1 = cx.Corex(\n",
    "    n_hidden=num_hidden,            \n",
    "    dim_hidden=cluster_dim,            \n",
    "    marginal_description='discrete',   # for discrete data\n",
    "    max_iter=max_iter,\n",
    "    max_samples=max_samples,\n",
    "    seed=random_seed,\n",
    "    verbose=True,\n",
    "    n_cpu=3,\n",
    "    ram=8\n",
    ")"
   ]
  },
  {
   "cell_type": "code",
   "execution_count": 8,
   "metadata": {},
   "outputs": [
    {
     "name": "stdout",
     "output_type": "stream",
     "text": [
      "[-0.001  0.071  0.03   0.001  0.025  0.063  0.062 -0.001  0.003  0.017  0.01   0.318  0.013  0.012  0.001  0.506 -0.     0.105  0.003  0.117]\n",
      "[  0.001   0.189   0.457   0.024  -0.     -0.005   0.144   0.001   0.023   0.051   0.011   0.661   0.036   0.017   0.003  21.08    0.001   0.197   0.014  -0.004]\n",
      "[  0.002   0.03   -0.009   0.168   0.016   0.042   0.192   0.031  -0.005  -0.01    0.057  -0.004   0.001   0.084   0.016   0.039   0.003   0.119   0.029  13.693]\n",
      "[  0.016   0.045  13.548   0.549   0.002   0.017   0.209  -0.004  -0.      0.059  -0.002   0.078  -0.004   0.206  -0.001   0.338   0.002   0.05    0.018  -0.066]\n",
      "[  0.111   0.018  -0.035   0.563   0.003   0.027   0.216   0.003   0.012   0.048   0.046   0.071   0.015   0.238   0.054   0.114   0.005   0.01    0.012  18.004]\n",
      "[  0.359   0.014  14.741   0.56    0.004   0.032   0.213   0.007   0.      0.079   0.001   0.017   0.067   0.244   0.      0.294   0.008   0.012   0.005   0.289]\n",
      "[  0.492   0.062   0.13    0.559   0.003   0.043   0.246   0.017   0.015   0.1     0.198   0.042   0.135   0.243   0.314   1.713   0.016   0.014   0.101  24.447]\n",
      "[  0.508   0.351  24.855   0.578   0.016   0.078   0.436   0.059   0.043   0.158   0.006   0.179   0.325   0.255   0.021   0.286   0.025   0.05    0.052  -0.056]\n",
      "[  0.513   0.027   0.119   0.566   0.009   0.046   0.238   0.062   0.001   0.123   0.104   0.059   0.146   0.239   0.054   0.194   0.031   0.023   0.014  20.938]\n",
      "[  0.517   0.061  24.76    0.507   0.007   0.051   0.337   0.085   0.057   0.192   0.029   0.04    0.158   0.236   0.351   0.977   0.044   0.016   0.129   0.208]\n",
      "[  0.524   0.125   0.022   0.506   0.013   0.056   0.341   0.106   0.013   0.185   0.615   0.052   0.341   0.241   0.152   0.302   0.056   0.031   0.082  25.419]\n",
      "[  0.525   0.097  23.041   0.503   0.009   0.053   0.26    0.106   0.059   0.174   0.023   0.08    0.168   0.248   0.135   0.677   0.053   0.025   0.058   0.532]\n",
      "[  0.533   0.066   0.353   0.501   0.015   0.051   0.389   0.124   0.014   0.177   0.318   0.053   0.207   0.251   0.428  23.009   0.059   0.019   0.15    3.609]\n",
      "[  0.533   0.168   1.46    0.505   0.014   0.063   0.273   0.15    0.159   0.175   0.081   0.099   0.298   0.253   0.116  24.688   0.073   0.031   0.188   0.96 ]\n",
      "[  0.639   0.097   1.008   0.403   0.02    0.055   0.301   0.165   0.019   0.179   0.255   0.089   0.238   0.254   0.497  24.754   0.062   0.026   0.061   1.219]\n",
      "[  0.641   0.122   1.099   0.412   0.015   0.055   0.318   0.197   0.15    0.186   0.133   0.092   0.307   0.259   0.238  24.821   0.073   0.026   0.279   0.832]\n",
      "[  0.739   0.128   0.763   0.364   0.02    0.058   0.281   0.173   0.022   0.209   0.219   0.094   0.253   0.261   0.827  24.816   0.061   0.034   0.079   0.874]\n",
      "[  0.745   0.099   1.023   0.353   0.015   0.054   0.286   0.221   0.134   0.153   0.243   0.074   0.333   0.332   0.649  24.825   0.07    0.03    0.204   0.738]\n",
      "[  0.779   0.11    0.561   0.356   0.028   0.068   0.314   0.162   0.021   0.169   0.411   0.096   0.283   0.414   2.15   24.343   0.069   0.039   0.148   0.772]\n",
      "[  0.811   0.086   0.741   0.356   0.027   0.061   0.284   0.22    0.099   0.133  20.727   0.062   0.253   0.43    0.915   4.622   0.064   0.034   0.1     0.7  ]\n",
      "[  0.815   0.07    0.691   0.377   0.027   0.059   0.286   0.197   0.017   0.167   2.468   0.062   0.251   0.439   2.3    22.935   0.064   0.04    0.148   0.726]\n",
      "[  0.814   0.073   0.576   0.329   0.022   0.058   0.26    0.214   0.111   0.147   0.967   0.06    0.236   0.439   2.008  24.373   0.061   0.029   0.104   0.675]\n",
      "[  0.854   0.077   0.633   0.387   0.033   0.057   0.27    0.192   0.022   0.148   0.998   0.06    0.255   0.385   1.672  24.403   0.067   0.034   0.157   0.661]\n",
      "[  0.861   0.084   0.559   0.337   0.027   0.055   0.259   0.228   0.102   0.149   0.857   0.056   0.258   0.386   1.721  24.5     0.068   0.032   0.134   0.668]\n",
      "[  0.86    0.084   0.562   0.379   0.034   0.064   0.253   0.242   0.031   0.15    0.846   0.064   0.263   0.384   2.206  24.4     0.068   0.045   0.144   0.627]\n",
      "[  0.86    0.09    0.531   0.343   0.033   0.061   0.252   0.276   0.076   0.145   0.831   0.067   0.218   0.38    2.341  24.458   0.065   0.037   0.127   0.593]\n",
      "[  0.864   0.092   0.476   0.386   0.035   0.069   0.246   0.559   0.049   0.147   0.68    0.065   0.235   0.386   1.904  24.529   0.067   0.038   0.13    0.579]\n",
      "[  0.859   0.094   0.485   0.35    0.032   0.061   0.246   0.431   0.065   0.163   0.691   0.07    0.272   0.382   2.089  24.473   0.071   0.04    0.135   0.582]\n",
      "[  0.858   0.076   0.457   0.367   0.036   0.066   0.241   0.97    0.048   0.161   0.671   0.065   0.266   0.381   1.674  24.432   0.069   0.043   0.114   0.559]\n",
      "[  0.86    0.088   0.42    0.356   0.037   0.067   0.241   0.847   0.071   0.163   0.702   0.06    0.296   0.383   1.522  24.456   0.07    0.04    0.14    0.574]\n",
      "[  0.859   0.089   0.391   0.375   0.035   0.066   0.245   1.016   0.054   0.158   0.575   0.066   0.248   0.382   1.662  24.451   0.07    0.039   0.248   0.577]\n",
      "[  0.86    0.079   0.384   0.363   0.041   0.063   0.248   0.62    0.057   0.156   0.589   0.064   0.222   0.384   1.491  24.417   0.071   0.041   0.968   0.554]\n",
      "[  0.86    0.087   0.367   0.358   0.04    0.063   0.245   0.722   0.05    0.154   0.47    0.065   0.273   0.381   1.567   1.392   0.07    0.043  23.547   0.507]\n",
      "[  0.86    0.095   0.373   0.361   0.039   0.067   0.248   0.722   0.079   0.148   0.513   0.067   0.25    0.38    1.691   1.488   0.071   0.044  23.628   0.46 ]\n",
      "[  0.862   0.097   0.394   0.366   0.04    0.063   0.243   0.724   0.045   0.157   0.482   0.058   0.312   0.384   1.488   1.261   0.07    0.042  23.925   0.477]\n",
      "[  0.861   0.097   0.363   0.354   0.043   0.066   0.246   0.629   0.077   0.157   0.489   0.062   0.232   0.379   1.838   0.859   0.077   0.044  24.063   0.462]\n",
      "[  0.864   0.085   0.368   0.375   0.044   0.069   0.249   0.609   0.048   0.149   0.48    0.069   0.448   0.384   1.772   0.708   0.075   0.043  24.08    0.463]\n",
      "[  0.861   0.098   0.361   0.355   0.047   0.067   0.237   0.723   0.079   0.166   0.465   0.07    0.228   0.381   1.82    0.808   0.076   0.042  24.098   0.456]\n",
      "[  0.863   0.093   0.369   0.368   0.045   0.065   0.241   0.617   0.041   0.154   0.493   0.071   0.565   0.384   1.765   0.451   0.077   0.042  24.252   0.461]\n",
      "[  0.864   0.09    0.357   0.353   0.046   0.06    0.244   0.806   0.095   0.163   0.485   0.061   0.187   0.383   1.779   0.491   0.076   0.039  24.261   0.468]\n",
      "[  0.864   0.095   0.35    0.385   0.046   0.069   0.239   0.561   0.032   0.161   0.492   0.077   0.702   0.378   1.991   0.434   0.078   0.042  24.205   0.474]\n",
      "[  0.862   0.084   0.352   0.336   0.038   0.066   0.23    0.794   0.096   0.158   0.477   0.072   0.216   0.382   1.754   0.458   0.074   0.038  24.283   0.46 ]\n",
      "[  0.864   0.091   0.365   0.388   0.042   0.067   0.231   0.56    0.045   0.147   0.508   0.071   0.537   0.381   1.622   0.419   0.086   0.037  24.297   0.47 ]\n",
      "[  0.86    0.087   0.369   0.35    0.04    0.061   0.237   0.861   0.074   0.157   0.501   0.067   0.237   0.383   1.728   0.442   0.075   0.041  24.271   0.469]\n",
      "[  0.862   0.088   0.357   0.375   0.048   0.064   0.231   0.541   0.061   0.158   0.546   0.076   0.429   0.384   1.715   0.369   0.084   0.038  24.295   0.475]\n",
      "[  0.863   0.096   0.365   0.357   0.046   0.064   0.235   0.816   0.056   0.161   0.473   0.064   0.293   0.382   1.742   0.287   0.076   0.043  24.371   0.475]\n",
      "[  0.864   0.09    0.364   0.369   0.051   0.061   0.232   0.593   0.067   0.148   0.508   0.072   0.423   0.382   1.736   0.305   0.079   0.038  24.384   0.47 ]\n",
      "[  0.863   0.081   0.388   0.365   0.04    0.064   0.233   0.709   0.05    0.152   0.498   0.072   0.391   0.379   1.897   0.287   0.077   0.04   24.36    0.483]\n",
      "[  0.864   0.084   0.371   0.365   0.045   0.066   0.231   0.642   0.073   0.157   0.511   0.062   0.394   0.378   1.839   0.298   0.081   0.04   24.35    0.461]\n",
      "[  0.864   0.088   0.35    0.369   0.042   0.065   0.233   0.68    0.046   0.157   0.489   0.074   0.374   0.381   1.882   0.309   0.084   0.036  24.355   0.464]\n",
      "Overall tc: 31.3440343821\n",
      "Best tc: 31.3440343821\n",
      "time to compute: 46233.57694578171 seconds\n"
     ]
    }
   ],
   "source": [
    "t0 = time()\n",
    "ys_layer_1 = corex_layer_1.fit_transform(vectorized_data)\n",
    "print(\"time to compute: {} seconds\".format(time() - t0))"
   ]
  },
  {
   "cell_type": "markdown",
   "metadata": {},
   "source": [
    "## labels"
   ]
  },
  {
   "cell_type": "markdown",
   "metadata": {},
   "source": [
    "`.labels` is the size of your data.  And `.labels[i]` gives you the values for each $Y_j$ for the $i^{th}$ datapoint"
   ]
  },
  {
   "cell_type": "code",
   "execution_count": 9,
   "metadata": {},
   "outputs": [
    {
     "data": {
      "text/plain": [
       "array([1, 0, 1, 1, 1, 0, 1, 1, 0, 1, 1, 0, 1, 1, 0, 1, 0, 0, 1, 1])"
      ]
     },
     "execution_count": 9,
     "metadata": {},
     "output_type": "execute_result"
    }
   ],
   "source": [
    "corex_layer_1.labels[0]"
   ]
  },
  {
   "cell_type": "markdown",
   "metadata": {},
   "source": [
    "So....in theory, two documents with the same `label`, should also have similar `label vectors`."
   ]
  },
  {
   "cell_type": "code",
   "execution_count": 10,
   "metadata": {},
   "outputs": [],
   "source": [
    "labels_grouped = groupby(all_labels, lambda x: x[1])\n",
    "labels_dict = {}\n",
    "for idx, group in labels_grouped:\n",
    "    just_docs = list(map(lambda x: x[0], group))\n",
    "    if idx in labels_dict:\n",
    "        labels_dict[idx].extend(just_docs)\n",
    "    else:\n",
    "        labels_dict[idx] = just_docs"
   ]
  },
  {
   "cell_type": "code",
   "execution_count": 11,
   "metadata": {},
   "outputs": [
    {
     "name": "stdout",
     "output_type": "stream",
     "text": [
      "two docs with label=0: 15, 20\n"
     ]
    },
    {
     "data": {
      "text/plain": [
       "(array([1, 0, 1, 1, 1, 0, 0, 1, 1, 1, 0, 0, 1, 1, 0, 1, 0, 1, 1, 1]),\n",
       " array([1, 0, 1, 1, 1, 1, 0, 1, 1, 1, 1, 0, 1, 0, 0, 0, 0, 0, 0, 1]))"
      ]
     },
     "execution_count": 11,
     "metadata": {},
     "output_type": "execute_result"
    }
   ],
   "source": [
    "same_doc_label_1, same_doc_label_2 = labels_dict[0][:2]\n",
    "print(\"two docs with label=0: {}, {}\".format(same_doc_label_1, same_doc_label_2))\n",
    "corex_layer_1.labels[same_doc_label_1], corex_layer_1.labels[same_doc_label_2]"
   ]
  },
  {
   "cell_type": "markdown",
   "metadata": {},
   "source": [
    "And presumably two docs from very different gropus should have dissimilar `label vectors`."
   ]
  },
  {
   "cell_type": "code",
   "execution_count": 12,
   "metadata": {},
   "outputs": [
    {
     "data": {
      "text/plain": [
       "[(0, 'alt.atheism'),\n",
       " (1, 'comp.graphics'),\n",
       " (2, 'comp.os.ms-windows.misc'),\n",
       " (3, 'comp.sys.ibm.pc.hardware'),\n",
       " (4, 'comp.sys.mac.hardware'),\n",
       " (5, 'comp.windows.x'),\n",
       " (6, 'misc.forsale'),\n",
       " (7, 'rec.autos'),\n",
       " (8, 'rec.motorcycles'),\n",
       " (9, 'rec.sport.baseball'),\n",
       " (10, 'rec.sport.hockey'),\n",
       " (11, 'sci.crypt'),\n",
       " (12, 'sci.electronics'),\n",
       " (13, 'sci.med'),\n",
       " (14, 'sci.space'),\n",
       " (15, 'soc.religion.christian'),\n",
       " (16, 'talk.politics.guns'),\n",
       " (17, 'talk.politics.mideast'),\n",
       " (18, 'talk.politics.misc'),\n",
       " (19, 'talk.religion.misc')]"
      ]
     },
     "execution_count": 12,
     "metadata": {},
     "output_type": "execute_result"
    }
   ],
   "source": [
    "list(enumerate(data_train.target_names))"
   ]
  },
  {
   "cell_type": "code",
   "execution_count": 13,
   "metadata": {},
   "outputs": [
    {
     "data": {
      "text/plain": [
       "(array([1, 0, 1, 1, 1, 0, 0, 1, 1, 1, 0, 0, 1, 1, 0, 1, 0, 1, 1, 1]),\n",
       " array([1, 0, 1, 1, 1, 0, 1, 1, 0, 1, 0, 0, 1, 0, 0, 1, 0, 0, 1, 1]))"
      ]
     },
     "execution_count": 13,
     "metadata": {},
     "output_type": "execute_result"
    }
   ],
   "source": [
    "diff_doc_label_1 = labels_dict[0][0]\n",
    "diff_doc_label_2 = labels_dict[12][0]\n",
    "corex_layer_1.labels[diff_doc_label_1], corex_layer_1.labels[diff_doc_label_2]"
   ]
  },
  {
   "cell_type": "markdown",
   "metadata": {},
   "source": [
    "Not so convincing...."
   ]
  },
  {
   "cell_type": "markdown",
   "metadata": {},
   "source": [
    "## clusters"
   ]
  },
  {
   "cell_type": "markdown",
   "metadata": {},
   "source": [
    "This will identify which cluster each word should belong to."
   ]
  },
  {
   "cell_type": "code",
   "execution_count": 27,
   "metadata": {},
   "outputs": [],
   "source": [
    "w2i = vectorized_unigrams.vocabulary_\n",
    "i2w = dict((i,w) for w,i in w2i.items())"
   ]
  },
  {
   "cell_type": "code",
   "execution_count": 26,
   "metadata": {},
   "outputs": [
    {
     "name": "stdout",
     "output_type": "stream",
     "text": [
      "cluster 0 has 9613 words with a TCS of 24.355386932119735\n",
      "cluster 1 has 205 words with a TCS of 1.882161663588071\n",
      "cluster 7 has 53 words with a TCS of 0.3741275769978916\n",
      "cluster 11 has 5 words with a TCS of 0.23332265806305819\n",
      "cluster 13 has 2 words with a TCS of 0.08757267504154727\n",
      "cluster 2 has 15 words with a TCS of 0.8643528613458302\n",
      "cluster 9 has 13 words with a TCS of 0.35030988101607713\n",
      "cluster 18 has 1 words with a TCS of 0.04155243040676632\n",
      "cluster 8 has 2 words with a TCS of 0.36890414436113095\n",
      "cluster 19 has 1 words with a TCS of 0.03621473931307518\n",
      "cluster 15 has 1 words with a TCS of 0.07427114469196701\n",
      "cluster 6 has 6 words with a TCS of 0.38141525228861156\n",
      "cluster 4 has 19 words with a TCS of 0.4892670086348114\n",
      "cluster 3 has 35 words with a TCS of 0.6796223281389452\n",
      "cluster 10 has 8 words with a TCS of 0.30942800068231724\n",
      "cluster 12 has 6 words with a TCS of 0.15672660999242857\n",
      "cluster 5 has 10 words with a TCS of 0.463999449130186\n",
      "cluster 17 has 1 words with a TCS of 0.04628713307854446\n",
      "cluster 14 has 2 words with a TCS of 0.08417866510904476\n",
      "cluster 16 has 2 words with a TCS of 0.06493322806770668\n"
     ]
    }
   ],
   "source": [
    "clusters = corex_layer_1.clusters\n",
    "clusters_grouped = groupby(enumerate(clusters), lambda x: x[1])\n",
    "clusters_dict = {}\n",
    "for idx, group in clusters_grouped:\n",
    "    just_words = [i2w[i] for i in map(lambda x: x[0], group)]\n",
    "    if idx in clusters_dict:\n",
    "        clusters_dict[idx].extend(just_words)\n",
    "    else:\n",
    "        clusters_dict[idx] = just_words\n",
    "for c, words in clusters_dict.items():\n",
    "    print(\"cluster {} has {} words with a TCS of {}\".format(c, len(words), corex_layer_1.tcs[c]))"
   ]
  },
  {
   "cell_type": "markdown",
   "metadata": {},
   "source": [
    "That's not at all balanced, but these are sorted by `TCS`.  And so all of the \"important\" words should be in `cluster=0`.   But there were only 10k total words used, so it didn't really do a good job \"trimming\" the \"important\" words' list.\n"
   ]
  },
  {
   "cell_type": "markdown",
   "metadata": {},
   "source": [
    "## visualize\n"
   ]
  },
  {
   "cell_type": "code",
   "execution_count": 16,
   "metadata": {},
   "outputs": [
    {
     "name": "stdout",
     "output_type": "stream",
     "text": [
      "Groups in sorted_groups.txt\n",
      "Pairwise plots among high TC variables in \"relationships\"\n"
     ]
    }
   ],
   "source": [
    "vcx.vis_rep(\n",
    "    corex=corex_layer_1, \n",
    "    data=vectorized_data,\n",
    "    row_label=all_names,\n",
    "    column_label=None,\n",
    "    prefix=\"20newsgroups_viz\",\n",
    "    topk=num_hidden\n",
    ")"
   ]
  },
  {
   "cell_type": "markdown",
   "metadata": {},
   "source": [
    "## groups"
   ]
  },
  {
   "cell_type": "code",
   "execution_count": 18,
   "metadata": {
    "collapsed": true
   },
   "outputs": [],
   "source": [
    "path_to_groups = \"20newsgroups_viz/text_files/groups_no_overlaps.txt\""
   ]
  },
  {
   "cell_type": "code",
   "execution_count": 21,
   "metadata": {},
   "outputs": [],
   "source": [
    "group_regex = r'Group num: ([0-9]+), TC.*'\n",
    "groups = {}\n",
    "groups_list = []\n",
    "with open(path_to_groups, \"r\") as f:\n",
    "    for line in f:\n",
    "        if line.startswith(\"Group num\"):\n",
    "            group_number = re.match(group_regex, line)[1]\n",
    "            if groups_list:\n",
    "                groups[int(group_number) - 1] = groups_list\n",
    "            groups_list = []\n",
    "        else:\n",
    "            dim, val = line.rstrip().split(\",\")\n",
    "            groups_list.append((dim, val))\n",
    "groups[int(group_number)] = groups_list"
   ]
  },
  {
   "cell_type": "code",
   "execution_count": 25,
   "metadata": {},
   "outputs": [
    {
     "name": "stdout",
     "output_type": "stream",
     "text": [
      "There are 9613 words in group 0 with a total TCS of 24.355386932119735:\n",
      "only,most,which,these,being,many,see,those,us,has,may,into,such,after,also,well,point,first,here,should,over,say,make,against,our,same,before,how,since,own,part,two,while,through,must,its,every,could,made,believe,very,why,did,fact,again,right,come,between,world,last,without,take,years,where,still,said,however,government,nothing,both,good,least,things,course,little,another,others,general,life,given,each,true,case,better,human,down,go,let,based,never,rather,going,might,10,end,example,long,too,different,re,give,few,real,either,non,issue,enough,reason,person,find,history,whether,look,above,whole,place,off,until,new,saying,want,under,state,during,claim,means,away,something,does,simply,evidence,themselves,anything,probably,though,matter,doesn,thing,cannot,less,once,three,country,second,day,always,far,13,among,times,note,back,30,important,certainly,used,yet,free,perhaps,called,keep,wrong,around,best,number,really,man,god,members,upon,taken,put,seems,ll,war,clear,including,year,consider,often,order,actually,several,necessary,today,form,later,15,makes,law,yes,11,word,doing,live,1993,national,children,american,become,public,known,ever,words,large,20,nor,left,14,present,thus,men,involved,great,18,name,12,further,17,found,taking,show,read,past,discussion,states,understand,clearly,personal,hope,agree,group,unless,next,sense,within,self,quite,international,question,opinion,feel,ask,four,done,rest,accept,argument,almost,having,force,situation,although,making,view,mean,provide,political,united,support,research,000,certain,hand,control,sure,mind,etc,society,alone,tell,expect,death,already,isn,position,major,subject,didn,full,common,22,care,open,rights,lives,himself,ve,days,act,five,high,center,terms,jews,21,population,big,nature,itself,difficult,include,particular,single,following,period,19,40,religious,her,body,policy,coming,knowledge,attempt,considered,book,process,except,trying,together,came,idea,prove,completely,killed,truth,bad,talking,laws,therefore,christian,lot,able,cases,ones,third,told,try,issues,action,living,points,city,purpose,short,possible,cause,addition,strong,faith,entire,call,related,lack,31,change,likely,34,start,am,generally,neither,23,ways,below,asked,seem,information,questions,outside,talk,practice,level,individual,25,thought,took,beginning,science,face,specific,especially,happen,future,power,continue,exist,else,majority,26,groups,1992,whom,attack,answer,whose,gun,small,young,military,aren,along,longer,reasons,women,poor,claims,kind,maybe,giving,written,actions,existence,29,stated,anti,created,understanding,according,28,countries,conclusion,gave,sent,april,50,security,accepted,source,getting,current,near,indeed,york,27,instead,john,land,old,individuals,complete,community,follow,peace,statement,israel,willing,suggest,kill,sources,simple,jesus,bit,result,post,everyone,100,provided,christ,due,line,acts,area,throughout,church,final,seen,total,jewish,various,modern,defense,respect,exactly,usually,available,office,fighting,won,significant,religion,bible,happened,nation,basis,greater,christians,letter,required,worse,started,cut,35,responsible,finally,fire,established,response,civil,side,business,towards,leaders,approach,comes,member,anyway,dr,dead,million,early,carried,goes,special,51,meaning,basic,someone,behind,list,whatever,crime,ability,areas,entirely,doubt,arms,41,easy,amount,needed,die,despite,century,interesting,thousands,armenian,says,leave,effect,nearly,plan,scientific,army,parts,particularly,none,statements,arguments,armenians,house,protect,contact,43,takes,guns,places,exists,america,sort,comments,valid,independent,apply,numbers,home,reading,supported,wish,authority,context,easily,story,study,lead,yourself,36,proof,carry,became,armed,serious,volume,press,everything,systems,citizens,news,necessarily,reality,obviously,wouldn,chance,shown,killing,earlier,60,similar,died,president,decision,forces,got,return,washington,administration,organization,avoid,cover,primarily,mr,close,private,per,field,week,deal,explain,legal,intended,turks,added,45,soviet,deny,she,24,prevent,held,went,role,allow,break,muslims,earth,term,books,useful,allowed,effort,analysis,refer,recent,rule,murder,fully,weapons,possibility,charge,shall,false,creation,save,serve,troops,building,mostly,suspect,argue,modified,38,march,difference,risk,western,gets,definition,learn,family,knew,remember,muslim,introduction,arab,began,americans,activities,former,views,head,treatment,record,belief,beyond,text,move,primary,justice,becoming,received,contrary,meant,reference,official,begin,six,committed,across,hold,play,concept,discuss,low,department,developed,interest,rate,follows,brought,met,committee,account,expected,described,economic,material,direct,soldiers,age,share,half,goal,wanted,police,heart,release,federal,original,followed,turkish,de,efforts,90,hands,37,money,wants,step,local,comment,test,attention,realize,party,rules,39,moral,provides,speak,authors,believed,hundreds,decided,suggested,purposes,aside,fight,needs,manner,directly,add,attitude,receive,80,alternative,stop,pay,sometimes,average,appears,limited,main,wasn,born,references,ourselves,published,east,decide,assume,initial,late,eastern,bring,christianity,47,forward,52,concerned,address,europe,instance,evil,seriously,west,service,value,results,lived,ready,continued,appropriate,choose,freedom,university,beliefs,reached,archive,choice,education,al,led,court,includes,impact,weeks,contains,78,offered,responsibility,mention,equal,language,essentially,sit,91,63,paul,posted,gone,quoted,north,pretty,experience,message,70,applied,criminal,1991,operation,describe,presence,included,32,fall,trouble,84,occupied,standards,theory,officers,congress,gives,december,abuse,studies,reasonable,cities,55,hit,media,stand,examples,totally,53,turn,method,british,correct,increased,impossible,ago,access,lies,check,team,russian,historical,development,fields,regard,discussed,argic,violent,consistent,kept,agency,designed,similarly,higher,imagine,learned,reports,prior,california,require,table,lines,claimed,aware,prepared,apparently,middle,school,keeping,threat,otherwise,usenet,site,changed,effective,mentioned,events,mark,violence,council,huge,love,relationship,pointed,armenia,blood,interests,requires,serdar,genocide,working,job,previous,facts,section,officials,notes,1990,pass,oh,attacks,palestinian,explained,minutes,style,articles,write,regarding,mass,environment,organizations,reach,wide,granted,street,st,relevant,98,resources,moment,knowing,proposed,absolutely,providing,sake,ten,guess,document,separate,vs,crimes,holy,size,compared,trust,contents,turned,46,type,58,father,42,villages,israeli,33,base,potential,nations,appear,top,merely,somewhat,percent,lying,92,becomes,arabs,hours,02,documents,couple,greek,secret,supporting,report,admit,region,heard,benefit,humans,white,detail,couldn,existing,claiming,positive,south,defend,accurate,search,saw,54,block,passed,define,importance,social,southern,walk,circumstances,road,page,friends,worth,75,shot,1989,myself,journal,space,ii,lord,frequently,additional,union,happening,judge,technology,opinions,remain,changes,los,seven,fear,answers,establish,ground,logic,months,calling,woman,latter,natural,lie,movement,suppose,selected,shows,send,conference,playing,immediately,hear,innocent,target,kingdom,proper,obvious,content,highly,nobody,typical,posting,vast,felt,terrorism,lost,actual,meeting,foundation,pp,health,spirit,currently,hundred,raised,86,teaching,conclusions,knows,contain,agreed,opposed,key,wife,59,double,debate,review,legitimate,anonymous,french,1988,child,levels,kinds,collection,culture,uses,usa,situations,personally,governments,conditions,anywhere,reported,shooting,northern,turkey,depends,rutgers,inc,writing,services,48,thinking,forms,deep,factor,covered,haven,absolute,entered,beings,catholic,soon,05,range,progress,conduct,eight,biblical,lower,blame,race,reasoning,successful,february,aimed,treated,secure,nazi,un,develop,light,english,mother,property,management,suffering,annual,institute,hide,opportunity,foreign,david,56,dangerous,82,traditional,leads,elsewhere,european,copies,criminals,44,precisely,67,stupid,toward,date,air,kurds,proven,secretary,referring,request,146,food,operations,archives,stories,battle,scientists,net,standard,thomas,harder,leading,dealing,speaking,territories,commands,76,inhabitants,islam,palestine,papers,obtained,summary,192,allows,telling,tend,structure,comprehensive,previously,scale,king,numerous,sin,possibly,regarded,association,republic,revealed,examine,150,room,medical,worked,illegal,professional,cross,200,widely,village,occupation,77,presented,effects,convinced,eventually,literally,month,perfectly,perfect,powerful,degree,spread,81,specifically,hell,fifth,families,training,interpretation,produce,accomplished,represent,refuse,carrying,repeat,inside,centuries,disagree,pressure,agents,basically,jim,assuming,holding,hate,weak,advantage,features,religions,meet,understood,closer,68,protection,observations,writings,placed,joe,starting,failed,destruction,james,affect,sunday,fail,planned,objective,democratic,maintain,vol,unable,directed,guilty,twice,shouldn,drug,alive,sites,played,forget,ignore,participants,workers,attacking,policies,series,wonder,measure,quote,resulting,improve,enforcement,64,tested,forced,son,topic,town,ny,terror,rates,produced,exact,scripture,greece,ok,filled,weight,opposite,passage,guarantee,bill,project,central,stay,rise,demand,library,character,87,fair,aspects,karabakh,71,build,served,closed,extent,doctrine,57,event,stage,notion,93,welcome,disease,weapon,fairly,leaving,happens,participate,authorities,sexual,65,lay,bosnia,destroyed,careful,join,sample,firearms,politics,repeatedly,passages,83,attempts,flight,differently,everybody,safe,restrict,medicine,technical,causes,increase,cor,principle,statistics,remains,overall,supposed,readers,decisions,et,terrorist,benefits,create,allies,saved,angeles,referred,murdered,professor,witness,62,chief,spiritual,caused,procedures,agencies,details,prevented,growing,perspective,humanity,assumption,animals,convince,assumed,director,significantly,135,function,communications,division,pre,tradition,hill,larger,extremely,109,fit,suddenly,publishers,telephone,techniques,invasion,alleged,released,path,ahead,refugees,stopped,cost,testament,thousand,justify,picked,homes,variety,messages,peter,methods,civilians,identify,appeared,holds,73,types,noted,distribution,distributed,palestinians,fourth,heavy,analogy,spent,determined,controlled,broad,description,derived,regardless,drawn,com,random,freely,concern,users,organized,closely,empire,aid,paper,rational,broken,millions,yours,defined,night,49,heaven,recognize,performed,irrelevant,800,cs,notice,vote,1986,obtain,acceptable,teach,heavily,reduce,quick,scholars,surely,eyes,truly,leader,unfortunately,values,physical,trial,remained,putting,furthermore,reform,130,stuff,advanced,concerns,older,birth,somehow,publicly,highest,front,calls,command,intent,unique,civilian,resistance,1982,postings,solution,title,pages,factors,88,students,sex,built,encouraged,co,removed,ma,goals,iv,minor,concerning,cited,generation,determine,automatic,harm,ottoman,box,safety,fired,differences,matters,regular,clinton,verses,automatically,represents,college,intellectual,sci,danger,conversation,weren,containing,figure,gathered,names,85,worthy,contributed,azerbaijan,smith,mountains,associated,300,industry,persons,officer,rejected,origin,atrocities,desire,attacked,talks,leadership,mouth,minorities,reaction,detailed,originally,sending,bear,seemed,cultural,400,helped,sides,quickly,131,enter,allowing,task,bodies,july,scriptures,expressed,multiple,edge,victims,61,serves,daily,agreement,koresh,taught,behavior,straight,tool,martin,plus,reject,imply,parents,145,researchers,heads,healthy,1914,developing,logical,charter,territory,69,jobs,core,surprised,enemy,newsgroups,phrase,117,seeing,june,denied,russia,believes,conclude,express,neighbors,staff,germany,divine,continuing,initially,equally,94,citizen,entry,repeated,compare,relatively,sections,positions,la,happy,salvation,contrast,72,universe,usual,programs,permission,besides,empty,status,immediate,hardly,intervention,greeks,burning,judgement,104,nevertheless,formed,negative,london,jerusalem,grace,editor,listen,extermination,sign,implemented,96,island,seek,misc,operating,04,concluded,dozen,documented,announced,wait,assertion,describes,company,202,ad,sea,via,door,achieve,rely,brown,laboratory,communities,founded,license,outcome,144,enemies,apart,entitled,assumptions,mess,november,foot,89,des,meanwhile,france,drop,1983,133,cooperation,eternal,activity,09,finding,aggression,german,paid,testing,rich,fly,lands,slaughter,constant,absence,responding,smaller,translation,win,peaceful,cold,raise,revolution,length,voice,count,doctors,addresses,remove,1984,effectively,identified,practical,image,returned,begins,mt,ensure,network,loss,everywhere,properly,ed,involve,sick,increases,treat,carefully,testimony,rock,guy,publication,electronic,forth,records,performance,looked,compound,worst,sorry,moved,kills,israelis,struggle,typically,background,moslem,parties,black,folks,spend,unlike,grant,residents,excellent,lose,somebody,kids,russians,representative,league,expert,worship,fundamental,conducted,continues,500,possession,implications,extended,sons,fellow,minister,righteous,principles,proposals,compromise,id,dependent,chosen,popular,usage,canada,sole,accounts,fell,tough,tells,stream,equipment,famous,guide,imho,considerable,industrial,fbi,1st,supports,george,teaches,pattern,complex,severe,fallacy,decades,reducing,assumes,slightly,elements,spoke,surprise,sacred,preventing,06,attorney,asala,consequences,explanation,january,bomb,moreover,_the,receiving,encourage,fast,steps,bound,morning,ultimate,listed,distance,shoot,surface,credit,reserve,topics,belong,attempted,game,increasing,favor,aids,burn,anatolia,roman,1967,sub,quotes,writers,animal,thinks,viewpoint,water,protecting,constitution,holocaust,tanks,chose,versus,eric,dispute,costs,hatred,ignoring,object,branch,aim,newsgroup,abandoned,141,awareness,independence,missing,publications,piece,stood,commerce,judgment,active,01,normally,jr,showed,vehicle,118,homeland,shut,treaty,existed,handed,blown,demonstrate,square,station,failure,conflict,portions,structures,theology,00,2nd,74,dictionary,contained,newly,honest,plain,helping,largely,quality,plenty,arise,hot,substantial,spring,jew,creating,sufficient,regime,teachers,stands,discussions,backed,communication,strongly,sequence,teachings,assault,figures,132,resurrection,guidelines,consensus,zone,improvement,user,art,154,eye,hurt,reaching,violated,gr,options,110,environmental,1985,visit,representatives,destroy,geneva,patients,proposal,99,setting,95,mine,showing,letters,materials,resulted,online,energy,wrote,recorded,plans,facility,ministry,pub,capable,mechanism,pointing,injuries,argued,promote,orthodox,conservative,3rd,executive,fled,boundaries,defining,paragraph,verse,07,justification,136,escape,hitler,nice,commercial,recognized,resist,announce,mistakes,remote,240,stick,loved,flames,dark,index,club,super,examined,promise,ca,hence,warn,islamic,starts,indicates,believers,121,valuable,essential,ethnic,equivalent,ideas,suffer,newsletter,gas,charges,district,maryland,extensive,cult,4th,assistance,minds,falls,admitted,revelation,chicago,extreme,investigation,practices,critical,pieces,fails,affairs,deaths,gotten,begun,sorts,edition,wars,md,experiments,balance,whereas,feet,distinction,penalties,glory,author,201,apparent,signed,fashion,massacres,september,dedicated,consideration,ruled,jan,mission,kings,negotiations,standing,william,badly,brief,feb,season,session,edited,relative,solely,strange,minimal,implementation,rarely,adding,faster,experts,nazis,inherent,success,violations,injured,destroying,element,star,merit,demonstrated,samuel,focused,picture,legally,perform,soul,sight,truths,172,vancouver,1977,influence,bank,publish,frank,limit,batf,india,relations,lots,earn,dec,submitted,additions,defence,deliberate,infrastructure,altered,whatsoever,player,insult,smart,predicted,priests,112,ancient,emphasis,camps,amendment,agent,biggest,draw,appointed,03,wins,suggesting,terrorists,ignorance,sentence,pick,judged,burned,observed,tests,tim,minimum,necessity,collected,bombing,drugs,gods,cast,kurdish,pray,operate,ownership,assisted,sets,requests,survived,wounded,lewis,biased,maintained,waste,mere,billion,encryption,fascist,richard,broke,confirmed,minority,survey,august,conversations,mathematical,jones,condemned,economy,massacred,teams,answered,massachusetts,113,altogether,ix,discovered,stalin,ongoing,128,terrible,occurs,confusing,nine,legislation,processing,survival,score,ah,perceived,institution,copyright,traditions,copy,hypothesis,1972,lunch,germans,08,blind,opposition,powers,plays,_not_,combined,primitive,152,1948,poster,plausible,actively,ice,commonly,era,adequate,husband,oriented,boy,twenty,ineffective,intelligence,restricted,acted,visited,dying,accepting,submit,129,athos,licenses,letting,roughly,bottom,ran,psychological,punished,corps,correctly,learning,ph,luke,demands,monthly,1963,elias,137,twelve,friday,restriction,focus,aspect,abstract,presenting,romans,rose,host,silly,script,hebrew,explicitly,transfer,600,thrown,149,mountain,wishes,supreme,universities,97,unlikely,agenda,robert,exchange,democracy,neighbor,uu,england,respectively,1975,zero,obey,tools,class,pain,approximately,excuse,managed,orientation,138,border,supplied,contribute,code,1918,protected,discussing,morality,items,handled,extra,examination,intention,commission,143,azeris,characteristics,hoped,jump,predict,handgun,translated,120,acquire,philosophy,promised,bosnian,survive,occurred,measures,recognition,sciences,142,denying,au,tactics,ab,adult,combat,propaganda,tar,passes,profit,ne,confuse,ends,gospel,strategy,keys,volunteers,causing,hospital,province,stronger,calgary,october,ordered,111,157,experimental,facilities,cambridge,316,achieved,1b,emotional,namely,fund,blue,122,147,asia,speech,scientist,interpretations,talked,ranging,1987,hitting,raid,percentage,corrections,recently,plane,solve,victory,checks,1920,hasn,educational,involving,recall,yeah,mistake,prophets,opportunities,azeri,professionals,1974,shots,seized,bell,regulations,readily,worry,towns,link,privacy,strategic,refused,105,existent,consists,abuses,driving,btw,combination,deleted,red,operated,cf,punishment,design,occur,applications,fortunately,steve,victim,witnesses,denies,integration,evolution,tax,fax,ought,intelligent,turk,universal,moves,feels,fate,suicide,throwing,comparison,scope,schedule,concludes,attempting,surrounding,offense,exception,criteria,apostles,guys,centers,players,san,normal,ch,reporting,winning,bias,minute,literature,semi,feeling,proceedings,bet,sitting,direction,permit,okay,tried,fallen,systematic,thereby,chapter,represented,streets,defensive,provisions,adam,reporters,youth,global,selective,threw,error,improved,mu,lesson,refuge,shaw,acknowledge,prime,ignorant,dc,rookie,native,cyprus,interested,anymore,italy,syria,consult,sophisticated,murders,resolve,marriage,requirements,solid,integrated,boston,friendly,hour,2000,threatening,targets,syrian,caught,brothers,151,hearts,servers,secondary,exploration,encrypted,submission,soil,selection,mainly,diseases,arrogance,roy,ended,export,148,draft,istanbul,acting,supply,abroad,estimates,whoever,establishment,travel,103,ethics,publishing,asserting,informed,fulfilled,escaped,suffice,spot,capacity,108,wise,slaughtered,tiny,conscience,eat,winner,authorized,apostle,assert,plo,defending,runs,weekly,looks,1960,categories,convention,irrational,academic,fill,remarks,products,acid,corinthians,conspiracy,134,track,african,covenant,250,addressing,remaining,79,practically,gaza,sir,match,catholics,ages,hearing,worried,subsequent,signs,threatened,handguns,assist,accuracy,maintaining,nuclear,familiar,lifetime,exterminated,intend,ban,263,approaches,fi,eh,106,225,strength,viewed,functions,devoted,populations,park,distinct,bunch,incorrect,dro,honestly,plains,reveal,digital,hiding,incidents,doors,campaign,insist,estimated,financial,bullshit,indicate,caucasian,updates,thoroughly,3b,348,cpr,easier,superior,river,likes,wind,camera,faced,watch,171,ill,refers,pushed,fusion,definitions,outlined,interpret,relating,connection,flee,stone,magazine,voted,gather,observation,grounds,scattered,suggestion,skills,fool,123,honor,encounter,asking,tv,stability,pull,139,wealthy,neutral,labor,moderated,openly,loves,tragic,inherently,participation,acknowledged,addressed,breaking,warning,procedure,atheist,versions,va,turns,bigger,worldwide,round,stole,opponent,difficulty,territorial,priest,org,160,disregard,cryptography,milk,defines,adventures,riots,meaningful,sad,settlement,throw,moving,samples,deserve,agreements,cdc,700,desires,interview,headquarters,growth,formal,appearance,rtfm,contend,inspired,named,fought,creates,seeds,trade,schools,realistic,producing,ss,criticism,fits,abraham,crisis,documentation,bare,proved,expression,warrant,checking,routinely,changing,loose,contradict,hits,scott,computational,obedience,separation,cameras,partly,sharp,followers,declared,integrity,constitute,egypt,discrimination,readme,lebanon,van,pretend,monitoring,gift,apr,olson,launched,beat,summer,rifle,homosexuality,obtaining,hall,firing,20th,contradiction,mothers,considering,iii,physics,140,product,revision,matthew,mixed,refusal,grow,nasa,doctrines,issued,souls,pure,domain,texts,mk,suffered,interpreted,cite,permits,sdpa,hr,incredible,infant,dynamics,wall,handle,guarantees,rare,mankind,counter,compute,165,humanitarian,dictatorship,trees,hadn,enforce,validity,johnson,invisible,models,stolen,violate,canadians,utah,onto,green,ultimately,master,burden,invading,requirement,borders,walls,179,lawrence,sins,1971,320,findings,connected,networks,rt,budget,tired,responses,empirical,sk,kars,hills,confusion,corporation,stars,agrees,corresponding,roads,conveniently,vi,proud,applies,r3,puts,ff,patrick,map,requiring,ap,gain,consequence,entities,increasingly,prevention,generations,deliberately,198,blooded,qualify,steal,ass,protects,stored,adds,crowd,1923,expectations,contributions,founder,flying,tuesday,accuse,releases,167,102,engaged,funds,knock,yugoslavia,arrested,sq,satisfy,skill,handling,blessed,lists,approved,daughter,discipline,presents,believing,lets,saving,passing,identification,br,healed,bb,missed,mp,construction,intentionally,justified,assessment,functionality,harvard,edward,spending,crew,soc,stanford,affecting,projects,jordan,ridiculous,institutions,potentially,arguing,algorithm,119,coupled,reasoned,variable,finished,knives,fathers,listening,racist,poorly,produces,el,seconds,virtually,fanatics,molecules,afford,spectrum,declare,flow,ignored,split,iron,ron,chemistry,messiah,ga,constantly,proportion,ascii,ag,bringing,challenge,1980,2d,canadian,membership,implied,directory,sacrifice,fifty,spectacular,evaluate,smoke,nb,covering,developers,secular,coalition,trend,dropped,stopping,emphasize,masses,suggests,select,bs,ms,deserved,consistently,op,dialogue,limitations,planning,medium,accomplish,ex,motivated,liberal,phase,explains,seed,1915,contributing,pacific,viking,scene,identity,crazy,forum,collect,massacre,arrogant,waiting,ltd,presentation,bases,unit,describing,abiding,limits,radio,affected,precise,virtual,tartars,columbia,witnessed,bob,liberties,354,societies,proceeded,abilities,denial,incorporated,availability,luck,nicely,deserves,employment,disciples,properties,restrictions,vary,arf,dollars,174,guard,britain,compiled,rawlinson,arrived,cried,liberation,parameters,prone,meetings,secondly,market,completed,greg,units,maintains,fault,counts,portion,adopted,novel,ozone,atheism,embrace,investigator,moderate,valley,theists,baptist,respects,expelled,duty,dan,journals,theories,conviction,nagorno,seeks,announcement,simultaneously,guidance,advice,pit,deeds,184,astronomical,massive,rl,senior,islands,root,depth,commandments,courts,blow,consumed,turkiye,knocked,rapidly,candidate,survivors,senate,recommended,vehicles,scrutiny,conflicts,azerbaijanis,bruce,jpl,exclusive,252,raw,116,resolution,instructions,penalty,oct,evaluation,bayonets,spreading,portland,manipulation,businesses,header,upset,avenue,196,realized,delay,retain,churches,emotion,absurd,serving,capital,tel,prominent,walking,separated,realm,272,confidence,blows,relief,aged,conversion,historians,pride,impose,liberty,seeking,biology,succeed,hm,peoples,permanent,evident,rome,toronto,gentiles,roots,satan,diplomatic,governing,jail,214,360,du,forming,em,naive,severely,fresh,opening,circle,preserve,atlantic,1979,binding,opened,brother,option,allen,303,shared,yale,divided,unity,kg,shortly,saturday,deeply,employees,brain,morally,suit,insulting,quarterly,unnecessary,reads,mary,resort,paris,161,gulf,annihilation,loving,transmitted,condemn,firearm,thursday,returns,3000,loaded,specified,installation,stating,database,inter,offices,advisory,127,inevitable,silence,noon,tear,losing,serbia,camp,binaries,reliable,spoken,lift,thoughts,doubts,280,prophet,female,invaded,advocating,editors,production,waited,hopefully,talent,constitutional,fighters,10th,ba,minnesota,unknown,intends,species,beating,saves,sounds,1970s,prison,libraries,lowest,propose,ordinary,patient,ruling,chairman,collective,gm,watched,catch,internet,wound,keeps,questioned,habits,cia,skin,ira,africa,headers,depend,168,dinner,alike,knocking,dealt,eyewitness,crack,dare,promoting,stayed,urban,66,taxes,consist,prepare,tens,persecuted,entity,firms,studying,promises,xx,il,filling,flesh,introduce,fans,125,comp,zionist,monopoly,alt,raped,greatest,withdrawal,uk,appeal,fulfill,choices,platforms,sister,engineering,establishing,revised,succeeded,images,personnel,purchase,casualties,rising,107,glad,committees,garden,databases,rape,jumping,contribution,253,withdraw,persecution,iraq,regions,posters,sum,minus,civilized,torture,radical,interface,practicing,reflect,joining,buffer,speaks,bureau,257,thread,bristol,creator,till,motives,158,scholarly,accused,186,iran,improving,timothy,controversy,participating,argues,mit,compounds,theoretical,figured,preach,objects,consciousness,delegation,berkeley,dimensional,feasible,engage,guilt,intervene,inevitably,weigh,departments,en,domestic,proceed,ambassador,understandable,ie,assured,infinite,mysterious,credibility,114,frankly,270,bones,maps,cabinet,blanket,grown,226,fulfillment,forbid,caliber,storage,possessed,tries,technically,ux,fed,operates,rochester,involvement,offensive,extension,push,gained,implication,mutual,layer,axes,incredibly,exercise,s2,priority,prediction,appearing,mainstream,visible,bread,mat,bearing,cancer,interactive,unix,215,respond,crypto,101,statistical,stats,facing,exceeds,calculated,friend,lab,licence,workstation,translations,cosmic,oppose,booster,hole,invade,tm,imposed,update,binary,graduate,discover,meanings,triangle,1962,pro,serbs,errors,babies,uh,subjective,eg,enjoyed,fixed,gov,technologies,tree,motivation,log,identical,overview,fancy,historically,somewhere,shift,latest,settled,249,azerbaijani,hotel,isaiah,slowly,commanded,render,competition,misleading,closest,nutrition,programmers,insists,anecdotal,atmosphere,naturally,telescope,applicable,fee,urge,7th,principal,observe,horse,commit,felix,copied,odds,processes,measured,exposed,sj,dogma,dream,amongst,fiction,dismiss,pseudo,sector,stewart,facilitate,exceptions,bits,finish,asian,corner,employed,shell,gary,moments,reserved,investigate,davis,elect,congressional,definitely,410,trained,hereby,deals,movements,subtle,sun,mad,listing,experiment,plotting,strictly,occupying,med,tom,writer,jurisdiction,driven,saints,descriptions,wwii,arranged,leap,objection,forcing,busy,lee,model,directories,ee,buildings,computers,indicated,arm,useless,278,interaction,1940,considers,determination,feed,preaching,announcements,bills,surprising,category,inner,txt,finds,construct,component,mentions,hunter,tb,regional,relatives,funny,elections,wearing,blindly,coast,246,returning,controlling,evans,preparation,shar,forgotten,vendor,intentions,price,ludicrous,tragedy,objections,guaranteed,dl,murray,iraqi,mike,ben,located,citizenship,sought,companion,baby,sanctions,participated,incident,moslems,um,responsibilities,barely,illusion,licensed,avoided,sadly,risen,sheep,pope,neighboring,sufficiently,hostility,consequently,periods,n2,grave,consisted,nm,eliminated,welfare,subscribe,stern,bother,223,payload,advocates,afraid,alternatives,scholar,examining,bed,desired,fewer,operators,ate,belongs,socialist,nl,obscure,degrees,murdering,environments,employ,contemporary,mccarthy,smuggling,engineers,occasionally,elected,morals,substance,dunn,covers,academy,sleep,traveling,flag,gi,ou,shape,hs,prefer,firmly,linear,safer,certainty,164,gathering,senator,178,inclusion,wing,reverse,brutal,arabic,suspicion,everyday,awful,armies,emotions,refusing,pictures,investigated,strategies,motive,sam,doctor,imo,255,nancy,career,clean,clearing,abolish,mandate,judging,generated,esa,demanding,quarter,characters,implement,ankara,touch,rocket,falling,frame,hosts,isolated,logically,clinical,rick,perpetrated,baku,fruits,confirmation,aircraft,accidents,mss,uucp,sheet,watching,sees,brian,web,authorization,suite,narrow,equipped,dear,depending,understands,challenged,adults,faq,tremendous,preparing,concentration,resource,disagrees,sm,moses,comparable,evangelical,crap,217,wild,cults,apc,unworthy,sensitive,executed,phrases,launch,listserv,convicted,trash,francisco,award,luther,416,jet,scenario,administrator,compiler,bulletin,ha,optional,helps,bombed,decade,2b,tx,acceptance,purely,davidsson,soldier,arbitrary,choosing,astronomy,strike,maximum,huh,igc,fascinating,internal,libertarian,trip,lend,conscious,jury,howard,paranoid,cease,struck,fees,sponsored,unwilling,formation,occasions,comparing,dd,morris,behave,revolutionary,butt,adequately,dust,communicate,dept,169,herself,components,supposedly,jon,scheme,seventh,commentary,calculations,analyze,kelly,physically,upper,dave,killers,mental,6000,helpful,drew,tu,administrative,confused,capability,attributed,injury,177,gifts,photos,sealed,315,commitment,joined,emerge,ftp,hospitals,clients,nonetheless,diet,instruments,underground,walked,attached,quiet,coordinate,punish,le,harsh,preliminary,characterized,instant,cutting,dignity,ghost,colorado,ball,revolver,mistaken,lake,ideology,miscellaneous,device,contributors,cites,knife,artificial,dynamic,norris,amounts,income,thesis,rod,expand,campus,officially,print,opponents,mapping,output,mon,213,rw,student,pistol,elaborate,wealth,convincing,instrument,resolved,idiots,male,decent,explore,golden,torn,exciting,fraction,sound,yeast,angels,lawyers,pm,equality,racism,stake,performs,composed,simplicity,254,quietly,ample,faithful,associates,mandatory,mar,motivations,weaknesses,magnetic,auto,continually,modify,relation,averages,heat,ratio,missions,wolves,distinguished,geographical,confident,murderers,transmission,silent,prayer,virtue,sensing,newspapers,compromised,lengthy,measurements,cares,prohibiting,visiting,encountered,phenomena,n1,disappear,evaluated,124,scholarship,sincere,hidden,searches,155,17th,styles,224,alberta,hitter,alliance,airport,searched,dies,uunet,probability,introduced,disturbing,feelings,ml,infallible,protest,residence,1981,personality,strict,meal,scoring,cultures,mexico,remark,cg,drawing,lk,associate,legs,steady,deadly,distant,hypotheses,independently,approval,scared,spy,tor,prejudice,surrounded,1978,disprove,meaningless,beta,207,bat,behalf,continent,convictions,bullets,derive,inadequate,inquiry,diagnosis,grenades,277,accompanied,struggling,lawyer,reader,complicated,foster,supplement,sp,tolerate,nov,eliminating,importantly,mutually,unfortunate,bullet,s1,deity,practiced,straw,203,objectives,genuinely,discovery,sl,thee,330,restricting,bears,locked,demonstrates,ashamed,pool,girl,particles,209,larry,naked,faiths,pittsburgh,arc,retreat,subjects,processed,surviving,minimize,discusses,ppm,relate,clipper,dislike,proprietary,ireland,wounds,militia,rain,illegally,bench,tears,candidates,convenience,pennsylvania,memoirs,devices,deficit,ronald,cc,angry,spiritually,interact,contacts,nc,caucasus,invitation,parallels,tr,joint,lucky,phone,wisdom,interfere,miles,thou,experienced,composition,republican,typing,television,identifying,characteristic,disappeared,respected,theirs,par,batters,paying,crucial,homosexuals,att,tenth,kuwait,laboratories,intense,converted,harry,245,km,arabia,virus,contempt,glaring,desk,remainder,assembly,michigan,genetic,charged,childhood,convert,perception,yesterday,unarmed,updated,mv,manufacturers,harmony,delivered,sexuality,constructed,threaten,continuous,dealers,significance,interference,recovery,gross,possess,wells,mars,electronically,grew,praise,compression,efficient,supernatural,lesser,israelites,silicon,1969,matches,expertise,433,vision,ox,turning,contention,238,parent,input,pal,221,classic,peer,a1,immoral,mh,qualified,posts,strongest,manage,canon,risky,prayers,chemicals,slow,forgive,pt,automated,entries,contrib,secrets,gut,houses,invoke,atheists,amazing,countless,supporters,lcs,daniel,slavery,1965,persistent,lest,28th,pollution,terminal,proves,molecular,weekend,demo,rewarded,languages,accusations,specialized,generate,cup,les,planetary,instances,spanish,126,shelling,marriages,flowing,1000,biological,netherlands,blank,violating,ward,aggressive,treating,hierarchy,breast,multi,pg,counsel,programming,deciding,votes,beg,decrease,band,kr,donald,editorial,bacteria,affair,filters,nih,condemning,soft,riot,remind,pointless,creature,representing,compatible,gospels,chest,playoffs,rhetoric,294,rs,invited,divinity,linked,unauthorized,chances,salt,pagan,confirm,enhanced,capabilities,entering,traffic,mm,relevance,vu,lf,studied,q1,supplies,wilson,embargo,rendered,mw,communist,determining,lou,ic,planet,violation,arguably,alfred,mq,characterize,escrow,sc,homosexual,definite,escrowed,orbiter,goodness,funded,ry,finger,approaching,trivial,serbian,virginia,herzegovina,ops,cryptographic,gay,customers,conceived,carter,conception,expanded,205,sinners,vice,endorsed,latin,removal,stock,warrants,tracking,mystery,owners,whereby,uniform,counting,ww,dates,essence,rc,hal,mo,rejection,facto,plot,r4,prohibition,mystical,oz,overwhelming,jersey,consulted,afternoon,responded,diverse,pi,orbital,m_,dm,wc,productive,reno,telecommunications,speculation,tank,mn,trials,butler,questionable,blacks,governor,lj,methodology,manifest,symbolic,newspaper,reproduction,naval,258,item,collaboration,singer,audience,disarmed,histories,arthur,instituted,kpc,qualifies,concessions,partially,routines,simon,blessing,replaced,plaintext,508,winter,aw,hint,filtering,ing,tends,axe,armored,activists,unaware,compuserve,australian,computing,rulers,reduced,floor,discourage,unlawful,cheaper,267,rice,5000,conducting,waco,ocean,shuttle,companies,ethical,176,temporary,georgia,rz,glenn,yield,solutions,atf,younger,captured,pharisees,heritage,210,arrive,thin,sexually,damage,australia,infections,shame,accommodate,mob,distinguish,moderator,theologians,153,rejecting,204,inappropriate,comfortable,rename,ibm,specify,219,poverty,discourse,similarity,shit,nowhere,marked,mg,berlin,readings,owned,stress,462,criticize,cal,301,fish,4s,repentance,whenever,sincerely,specification,jose,branches,framework,quantity,ted,compressed,umn,edt,disclaimer,rkba,posed,concrete,philosophical,pleasure,messenger,contradictions,1970,carbon,doc,orbiting,graves,ls,princeton,wt,buried,clothing,assertions,alien,explaining,chronic,idiot,clothes,gw,thor,bush,ct,lebanese,threats,hp,funding,ifi,patches,rom,protocols,crown,treatments,avoiding,loud,contest,corrupt,oliver,chair,ho,bitnet,moon,belt,ip,baker,chooses,handy,345,qur,immune,ci,bug,regards,conflicting,enjoy,darkness,bibliography,vernon,atlanta,revelations,links,involves,predicting,geometry,shouted,focusing,unreasonable,vain,joseph,symptoms,barry,reduction,stephen,signature,assembled,radically,dominated,holes,males,ar,lamb,protein,politicians,185,raising,virgin,racial,bi,minors,vital,mentality,farm,garbage,workstations,journalists,gibson,shotgun,publicity,laid,asserts,forgot,exclusion,156,nearby,brady,incidentally,calm,investment,regularly,pursuing,285,grants,dictate,lacking,dozens,alter,ot,transport,ucla,mount,alternate,fl,mid,gang,roger,governmental,iris,classes,evening,controversial,knee,election,civilization,pants,circular,ala,mcgill,hmm,rd,unusual,ya,beside,dropping,cry,fan,advised,editing,355,balanced,expansion,utilities,suitable,strive,plant,wake,cooperate,folk,rev,butcher,jackson,postal,lifestyle,scaling,quoting,economics,presently,nuts,encrypt,asserted,abusive,easter,sudden,sf,overcome,manufacture,ruth,netcom,cheap,horrible,globe,naming,boys,preached,remotely,175,exclusively,fda,proclaimed,911,captain,color,384,parallel,fred,325,explicit,reston,accordance,geographic,rank,authoritative,homicides,herring,compilers,algorithms,looking,legislative,proclaim,stepped,laugh,rigorous,eating,teacher,investigators,thompson,dissemination,rotate,randy,235,risks,manufacturer,211,deletion,predictions,formats,wiretap,capture,vegas,reasonably,formerly,182,offers,packages,crypt,amateur,decreased,forgiveness,trace,saudi,happiness,syndrome,relationships,stat,complaints,alexander,physicians,probes,hopes,199,toxic,spain,historian,damn,paranoia,sender,draws,astronomers,organisation,married,entrance,jmd,patently,conceivable,mix,frightening,phoenix,generators,amusing,6e,1934,respecting,explosion,heavier,287,variables,negotiating,14th,atomic,galaxy,laughter,prof,1919,strip,flood,launching,gaining,beasts,cm,japanese,plainly,flawed,tomorrow,noring,loses,asks,webster,verified,remarkably,privately,broadcast,trusted,ultrix,boards,prevents,uio,clock,incomplete,transformation,limiting,pixels,household,slave,aliens,bonds,mysteries,projected,bishop,profile,hair,orders,exceed,chapters,concentrated,widespread,coat,physician,las,shorter,oops,enters,senses,inability,angle,discount,effectiveness,louis,neighbours,divisions,provision,lucifer,illinois,fold,midst,ucsd,password,imaging,gravity,lords,recognizing,refering,technological,committing,excerpts,glorious,tg,precious,myth,meters,genuine,panels,horrors,nationalism,nsa,commander,hammer,incoming,aug,jeff,magazines,admittedly,fix,illustrated,robertson,entertaining,kid,contradictory,theism,trends,psalm,merits,hostile,lips,conclusive,foolish,dress,montreal,heavens,remarkable,joke,sisters,1960s,fx,prey,brings,homicide,supporter,handheld,proposition,segment,163,5m,relay,satellite,313,thank,meantime,voting,sky,cries,collapse,largest,implies,delivery,toolkits,guest,offering,pa,mercy,citing,lately,3d,moscow,titles,deprived,tape,ace,printed,saga,technique,aa,confronted,accompanying,jack,magic,115,tortured,adopt,hmmm,corrected,earliest,invented,meat,monday,sharing,owner,salary,toolkit,allegations,mile,objectivity,operational,signatures,bright,abandon,verify,underlying,tobacco,billy,comply,atmospheric,warns,slaves,th,tactical,fanatic,shield,finite,competing,counted,nonsense,227,rewrite,indication,leonard,creative,hatcher,hasan,lifting,shocked,chicken,discarded,dietary,voices,fr,arizona,312,ussr,outstanding,lightning,dna,sequences,fun,isbn,mrs,nationality,goalies,locally,quantities,regulated,269,permitted,applying,separately,saint,fundamentally,barrier,implementations,attitudes,recovered,infection,sword,origins,sold,removing,behaviour,briefing,menus,pitching,1939,games,crying,yourselves,ours,wrap,adapted,functional,contract,prisoners,interfaces,educated,perry,oak,cmu,wit,warned,reputation,athena,executable,bin,listened,invite,confidential,propulsion,fat,prohibit,rocks,708,flaming,instructed,mailing,tutorial,shaped,ds,oath,chamber,hudson,denver,ps,bull,protestant,individually,bloody,tons,deeper,su,jd,wipe,watson,mentioning,walks,boundary,settlements,representation,lacks,wonders,forever,compete,distribute,panel,mvp,liar,matt,infer,regulation,headed,paragraphs,boxes,1994,detroit,habs,giant,gene,photo,dwyer,inserted,transportation,buy,subset,embedded,ruined,blocks,fantastic,grandfather,girls,china,gunfire,traditionally,hc,sat,registration,ken,min,screaming,investigations,compact,miss,modules,emergency,estate,obsolete,justifies,seemingly,344,cliff,influenced,rally,excuses,devoid,temperatures,praying,preferences,blindness,movie,jumped,smythe,banning,evolved,cis,baltimore,educate,recommend,henry,890,accepts,nj,pat,disagreement,recognizes,prophecies,attract,preservation,detected,outrage,protestants,summaries,159,mechanisms,oulu,hamas,ironic,faults,divide,warriors,gee,matching,console,310,burst,veal,decline,switzerland,tour,craft,transferred,music,geometric,statistic,rescue,scriptural,signing,presentations,swallow,magnitude,ott,liked,fringe,austria,unlimited,wear,prosecution,excessive,internally,pulled,car,occasion,discredit,stomach,legality,nra,wherever,forbidden,determines,initiative,subsequently,affects,worthless,senators,eve,quebec,implicitly,simplest,dramatic,requesting,concealed,feature,220,ng,decode,rifles,rendering,mc,treasury,solved,intrinsically,lindros,measurement,condemnation,sell,partners,drag,profound,buf,figuring,boeing,wood,ignores,photographs,boring,neil,observers,protocol,extract,handles,350,se,reflection,lo,183,insight,destructive,considerations,1900,wasting,debt,weakness,utility,ties,espionage,simulation,losses,alpha,raises,safely,cu,d012s658,pete,premise,tolerance,raids,extensions,bothers,angel,psalms,interviews,impressive,clarify,tables,default,arrival,grand,slight,implements,modification,film,buttons,243,bats,pgp,suspected,variations,displays,khomeini,systematically,cops,proponents,philadelphia,infectious,clh,fantasy,rumors,thermal,doug,lb,oneself,comparative,column,grenade,bleeding,wages,advances,jpeg,govt,contacted,efficiently,laughed,launchers,conjunction,der,tale,circles,killer,tc,reflected,welcomed,te,aix,hopkins,secrecy,wisc,forgiven,pose,arrange,interpreter,meyer,chi,bj,lighting,locations,sinned,probable,iranian,suits,gold,functioning,eternity,rodney,failing,solving,developer,coding,darwin,ton,picking,exposure,siege,lasting,blast,tract,minded,firm,fools,incompatible,patriot,blatant,theological,questioning,twisted,substantially,poles,faqs,pressed,observing,cd,confined,259,concise,comparisons,ai,movies,declaration,intercourse,0l,212,hayes,counterparts,standoff,condition,stuck,grain,accidental,pop,222,davidians,thorough,dawn,plants,murderer,cleansing,japan,roberts,corporations,partial,utterly,sutter,universally,adjusted,hz,observer,v4,revolt,heresy,persuade,proving,explanations,handbook,zones,atoms,incapable,ws,velocity,ugly,embarrassed,intensive,bugs,fuel,goods,righteousness,estimate,amazed,harmful,extensively,excluded,ponder,robinson,cruise,ft,breakdown,starters,gangs,baptism,ending,motion,packaged,puzzle,relying,reconcile,cent,robin,v1,rent,mature,buffalo,disaster,phenomenon,preserved,soderstrom,fatal,manager,defeated,unacceptable,uni,bh,bay,honesty,paths,discharge,khan,jefferson,bid,filed,617,voters,rn,pole,andrew,faces,train,bds,unto,channel,bigotry,unc,compile,wave,quit,picks,noticeable,ninth,advocate,execution,county,unbreakable,karabagh,santa,bogus,recover,winners,willingness,stimulus,fort,cos,dirty,rm,store,occasional,incarnation,authentication,rough,retrieve,thick,feared,intro,gp,alan,extend,hebrews,4m,alias,thirty,application,230,spite,sessions,differential,hawaii,moore,jp,chambers,esp,rushdie,probe,differ,disbelief,graphs,isolation,spell,replied,orbit,scored,ak,michael,winnipeg,uci,pl,loads,apologize,sixth,sheer,abu,triple,ego,apology,christopher,difficulties,sb,dig,managers,excluding,respective,theme,refuses,gender,cells,initiated,dale,expense,endor,venus,leaves,fp,satisfaction,jrm,nowadays,permanently,magellan,src,kentucky,2m,terry,toss,richmond,6th,saturn,diagnosed,reign,brad,stages,presumably,jc,gnu,lh,gnv,xor,ti,wa,radioactive,338,filename,authentic,invest,pr,bundled,shamir,worthwhile,museum,cabin,assigned,hurts,oo,wade,arrangement,centre,fj,fifteen,reduces,janet,tune,throat,prophecy,trap,surveys,mx,cy,elementary,carries,legend,si,enormous,pyramid,seasons,trigger,jsc,myers,declined,accessible,oregon,likewise,ontario,theist,pathology,verification,cuts,ifas,innings,x3,260,typed,sec,rand,volunteer,selfish,es,petri,twist,kc,reviewed,favorite,mideast,manipulating,shelf,stones,henrik,sinful,elite,smallest,horror,beware,bedroom,concentrate,suppress,flaws,earthly,io,eighth,diversity,arithmetic,colt,dominant,patience,offset,buses,tribe,parsli,bytes,inquisition,threshold,miller,snow,cure,diagnose,route,completion,loan,rightly,utter,nt,206,remembered,mis,spacecraft,cooperative,beleive,digest,pipe,1a,286,foods,consumption,cook,attendance,anytime,directions,fg,surgical,banned,saddam,complaining,ideal,overseas,189,idaho,reflects,feeding,rotation,printing,impulse,europeans,promotion,controls,rage,precision,worker,acquired,tricks,akin,cars,swiss,reliability,bent,consistency,array,alchemy,flame,wholly,bargain,behaviors,dot,solar,shed,presidents,rapid,manufacturing,capitalist,hamilton,sales,x11r4,equations,wiped,criterion,diego,worn,sunview,display,subjected,someday,lw,continuously,rec,bd,generates,requested,notwithstanding,bar,incentive,sensitivity,reply,machines,steel,confess,signal,bosnians,overhead,714,outrageous,volumes,entertainment,thereof,channels,negotiate,awesome,vicious,xxx,dev,vincent,advertising,ranger,dscomsa,403,silver,location,infants,sept,courtesy,searching,bo,nope,courses,damaged,plots,msu,zealand,flamed,bag,easiest,phill,competent,terminology,douglas,yelling,suppressed,cured,lied,democrats,kgb,semitic,discriminate,quayle,im,stl,pex,quack,closing,hitters,milton,norway,investigating,veteran,ring,kevin,conform,correspond,concepts,lobby,cash,briefly,cluster,import,converts,3k,visa,ye,ham,touched,allah,graphical,ri,ol,decisive,marry,tonight,encouraging,usable,ships,modest,sanderson,acquisition,altitude,sooner,bulk,maple,believer,grandmother,dramatically,converting,paste,filter,staged,frozen,cope,platform,traced,connections,indianapolis,rob,utexas,flip,disputed,inconsistent,hung,gray,bizarre,boulder,carl,soup,pity,emotionally,eliminate,politically,skeptical,implicit,existance,arose,biochemistry,helicopter,pursue,odd,reward,pasadena,1968,pinch,multimedia,attend,diameter,compassion,regret,wm,attractive,nhl,drunk,supportive,publisher,restrictive,generator,deposited,backups,dressed,wider,stan,disabled,max,162,offer,opt,noble,lt,scheduled,charity,uncle,answering,bio,sized,512,tip,baseball,upi,squeeze,desert,helpless,presume,desperate,goalie,apollo,jacket,classical,experiences,pleased,jerry,ceased,vendors,fleeing,weiss,sa,gs,anderson,cell,licensing,kick,wi,checked,industries,replace,arrow,beats,housing,stein,yea,custom,install,libertarians,rockets,stretch,gen,instruction,noting,1964,slap,plate,definitive,hockey,conservatives,axis,2x,tips,expressing,fundamentalists,grip,codes,periodically,forest,arras,client,ubvmsb,275,dense,integral,hamburg,cipher,bitmap,awfully,consumer,excited,temperature,spaces,bombs,bitmaps,stretching,nominal,weather,fame,motor,treats,proportional,edit,das,appeals,combinations,overnight,tracing,collections,devil,1200,241,masters,floating,varying,dennis,utilize,drafted,prices,ranks,brute,sparc,texas,phil,swing,favour,opposing,labels,literary,concordia,rush,idf,drink,blaming,suspicious,xv,react,transform,promising,hang,null,232,possibilities,grows,trinity,artillery,affiliated,dubious,intentional,backup,worries,debating,v2,documentary,hq,knees,osf,corruption,duration,prince,maynard,clark,collecting,surveillance,grey,inform,marginal,interviewed,resume,flights,284,216,slander,credible,p2,assemble,majors,arises,na,pad,backgrounds,killings,consulting,footage,lx,edmonton,transition,1500,tissue,alcohol,chinese,marvel,eager,symbol,comics,suns,surprisingly,sunos,mirror,vietnam,reactions,sh,tangible,convenient,cows,univ,winfield,rooms,admits,thumb,benedikt,602,mechanics,judges,190,reproduce,spinning,blatantly,tampa,macro,occured,anniversary,bernard,polite,inflammatory,barrel,totals,likelihood,shifts,temple,missiles,margin,e1,gerry,whites,sink,unbiased,mosque,gonzalez,deserving,houston,horus,cox,hero,ditto,maintenance,improvements,info,heading,viewing,sounded,ave,contacting,i4,manual,frequency,density,sticking,finance,displayed,enhance,specifications,accident,vms,misunderstood,ottawa,insure,goverment,patch,math,desirable,chopin,poll,reversed,madison,frustrating,originals,1k,ansi,prospect,rolling,bc,arts,varies,mack,restaurant,illness,striking,quran,attribute,interval,wording,analogous,bu,det,discomfort,interpreting,dimensions,deliver,terrain,truck,injustice,presumed,ics,mri,col,lessons,genius,430,detection,pioneer,informative,batting,distances,decrypt,burns,midnight,mchp,compatibility,armor,hazard,dose,verbal,republicans,comfort,beautiful,sabbath,pen,florida,ea,pitch,ruins,reed,settle,o2,hut,r5,sends,indicator,cr,reagan,enjoying,transmit,disks,oral,mohammed,drastically,hussein,digitized,marketing,hypocrisy,pcs,obligation,hearings,roster,networked,wet,insane,lib,manned,corp,module,358,roll,savior,tech,aclu,schemes,collins,sharon,reviews,classified,transmitting,imagination,economically,russell,concussion,transaction,toilet,oxford,scanned,604,prelude,catcher,fears,announcing,corpses,venture,seattle,vf,blowing,systemic,sni,mph,enhancement,cherry,savings,smoking,ciphertext,intermediate,stanley,speakers,satellites,positively,cap,pocket,columbus,fo,outlaw,mega,charlie,awaiting,ease,layout,expensive,195,bow,dir,employee,disgusting,doom,conventional,kb,murphy,rid,flat,sport,modifications,ray,lights,scary,defenseman,8k,4000,chris,415,damaging,vastly,synthesis,ship,mogilny,denning,menu,row,breaks,tendency,generic,constructive,keywords,correlation,nic,worlds,ames,developments,bothered,sumex,planes,networking,combine,carpenter,pound,finland,arrest,breath,alternatively,lovely,outright,infrared,ka,advantages,coverage,jonathan,thief,tended,registered,bars,619,clarinet,dont,defeat,knowledgeable,stations,incorporate,244,satisfied,sheets,debris,bought,modular,pertaining,mjones,communists,425,stiff,busted,skip,dated,oil,hallam,conferences,ears,robust,travelling,503,launcher,marty,consisting,variation,candida,wuarchive,assistant,beaten,zen,displaying,wings,launches,tickets,standpoint,333,wustl,sanders,405,preference,iff,mini,strife,patterns,offended,pot,negotiation,torah,risc,mclean,sensible,troubles,seal,arriving,recommendation,politician,curve,pie,xm,sentences,hunt,commandment,standings,ralph,est,laughing,colleague,trucks,portable,carrier,pun,268,explode,grind,pitcher,timer,electricity,variant,upcoming,responds,1976,crossed,constitutes,nh,factual,consultant,raymond,royal,programmed,1922,ccs,om,rotating,strikes,marc,engineer,wesley,appropriately,cannon,cool,financially,ancestors,dick,lady,19th,mitchell,moog,evolve,2500,coach,antibiotics,billions,cnn,innovative,italian,db,ups,kernel,electronics,256,1024,assists,happily,nist,beneficial,formula,stuart,mcrcim,transactions,xr,violates,originate,bond,economical,ans,stupidity,613,std,neighborhood,characterization,lazy,nervous,peacefully,hoping,suspension,orange,restore,wrapped,shouting,vector,dh,pros,uv,chart,umich,extraordinary,execute,designs,fixes,calif,highway,graph,lifted,ns,height,gradually,sizes,gopher,decides,zionism,turner,traded,objectively,testify,neat,lean,defaults,tommy,fundamentalist,scare,gcc,complexity,patrol,carleton,cl,flexible,approve,pregnancy,pink,clinic,randomly,borrowed,netters,kennedy,subscription,lethal,gretzky,crop,judaism,dishonest,performing,kingston,revenge,ut,tactic,uky,180,semitism,hey,challenges,admin,wednesday,uncompressed,batch,monochrome,simpler,hash,dominate,landed,ohio,server,macintosh,abs,coherent,coleman,hernandez,roof,modifying,ammunition,900,playoff,consortium,switched,apartment,lantern,4k,mildly,pascal,terribly,4t,mailed,tw,anybody,mounted,policemen,incorrectly,descent,irs,rr,fooled,sharks,cloud,slowing,optical,pet,compelling,surfaces,brave,johnny,kicking,censorship,deputy,median,lurking,demonstrating,considerably,hating,perceive,preview,juan,notably,assess,modeling,isreal,nu,programmer,transferring,comprehend,adams,pumped,tapped,titan,advocacy,darryl,organize,iq,zionists,divorce,astro,damned,bryan,owning,ulysses,tea,decrypted,insults,tap,freeze,roby,payment,spying,ranch,357,horn,neo,probert,rail,nmsu,gl,proposing,surgery,tossed,elderly,1973,allergy,comet,tribes,liability,shares,sullivan,complain,dragging,sic,warnings,revealing,rx,albert,miracles,banschbach,alot,continental,munich,demonstration,dog,literal,uwm,mapped,skilled,goaltender,713,oates,resident,formally,puck,hungry,postscript,powered,excess,pile,expecting,impressed,dg,rounds,toll,brass,750,flew,cornell,potvin,sleeping,straightforward,tex,copyrighted,bridges,byler,washed,substitute,flyers,blew,optimized,shostack,15th,dull,indiana,pastor,mathematics,outer,brick,wonderful,damages,fluke,weird,cape,stroke,francis,disadvantage,package,lincoln,denis,vt,ncsc,vax,fidonet,ubc,acm,cryptosystems,voluntary,dump,louisville,trips,mi,indicating,therapy,lafontaine,stance,ac,misuse,equation,warm,lunar,fielding,relies,nerves,muscle,fruit,inaccurate,fc,xview,weaponry,nights,failures,competitive,pools,nerve,markets,screw,ra,pulling,stealing,feds,expects,panic,app,b2,traps,resistant,bridge,window,throws,unbelievable,cycle,shotguns,demanded,miracle,ergo,sticks,fri,magnum,er,von,eavesdropping,mas,connor,80s,fisher,msdos,shadow,pig,consumers,forty,pb,bure,soccer,cycles,wales,sane,pending,rebound,spelled,balls,tower,einstein,owen,pushing,encourages,commenting,contradicts,arnold,spam,5th,archie,cleveland,drops,glove,restoration,swedish,speculate,receives,blackhawks,571,switching,nose,panix,archived,zip,steven,realizing,bodily,aerospace,compress,reliably,fortran,paradise,disable,speeds,faulty,delete,geoff,brush,beauty,unm,703,dt,408,viewers,dry,mighty,abortion,noise,483,sand,drawer,tapping,tracks,wasted,flyby,boss,harvey,oldest,unfair,mirrors,gilmour,ali,rangers,ir,symptom,anthony,eq,polls,satisfactory,1m,acute,afterwards,bands,sd,punch,integer,certified,818,visual,automatics,ideals,tasks,span,introducing,mcdonald,prospects,defensively,heights,poison,teeth,wow,rides,emacs,courage,tab,norm,accusation,bicycle,ssto,pitched,621,262,symbols,deemed,rationale,traces,clouds,convex,clarification,dad,configured,load,cv,successfully,caution,theoretically,hurting,enabled,cups,gentile,compliance,founding,pardon,clubs,misguided,oac,kicked,exclude,vp,reilly,profession,ripped,atari,bless,canucks,proofs,vulnerable,replacement,benchmark,exodus,jason,metzger,freeman,labs,reds,commented,yr,joy,sermon,warren,wanna,ear,surprises,firstly,flies,indicators,arena,taylor,hostage,uuencoded,mixing,relates,digit,1950,boggs,screwed,numerical,sig,insisted,compliant,wp,egyptian,quotation,sits,gap,bore,chain,popularity,hackers,rosenau,boat,dollar,dcs,qualities,cocaine,clem,verdict,cube,undoubtedly,habit,slightest,manufactured,obligated,thu,molitor,engaging,fraud,specs,chemical,cartridge,_is_,observatory,ega,widgets,wishing,duke,byte,ceremony,paperback,designing,demos,belonging,planets,1300,fielder,170,historic,inspiration,heap,additionally,explorer,oriental,folly,rsa,beam,telecom,noticed,nz,hercules,clarke,costly,films,wingate,survivor,mobile,scroll,edm,croats,finals,coffee,neccessary,metal,shipped,graham,journey,trapped,bastard,routine,redesign,dsp,dyer,brett,myrto,grid,polish,av,booth,consecutive,eugene,designers,versa,lance,380,simplistic,denominations,promptly,ian,aaron,444,cp,implying,bounce,referenced,biochem,intact,seats,desy,alas,theft,healing,shake,campbell,hull,atlas,pleasant,wrist,alex,accountable,ge,locate,restart,arsenal,williams,uicvm,mercury,davidian,crooks,gregg,deficiency,colostate,shred,modes,meta,disappears,glue,belfour,recommendations,666,baptized,architecture,sx,yo,dunno,imported,okstate,impression,forwards,fluid,refute,qc,gore,shoulders,tclock,corners,costing,bury,324,bath,loading,repent,msfc,nifty,interestingly,beach,maker,gates,texture,mailbox,craig,uncommon,frames,ryan,eddie,bang,complained,mailer,robotics,sweep,prohibited,ufl,sweden,fd,stores,galileo,801,flags,ordering,dual,inflated,incidence,v3,squad,muscles,headaches,bsd,nasty,insert,tube,mild,beneath,bullpen,originated,ers,gerald,login,manipulate,manages,engines,radiation,parks,fox,mixture,expenses,russ,carolina,insurance,scratch,bashing,ideological,spark,makers,workable,cn,canadiens,admitting,tight,327,pennant,waters,brands,hire,lds,milwaukee,tail,po,bandwidth,suggestions,shock,wheels,catalog,justifiable,horizon,leo,negotiable,rwing,advertise,udel,temporarily,skate,ob,dangers,gregory,encrypting,configuration,sgi,packet,invalid,contracts,spec,ks,950,hiring,selanne,8th,specialist,uncomfortable,adjustment,mem,receiver,dns1,birds,tt,uchicago,perpetual,orion,oxygen,lunatic,hextall,carriers,vcr,mint,trading,comm,sports,precedent,hanging,decryption,viewer,crossing,springfield,constructing,screens,batman,expo,neely,mud,clip,ext,paradox,interfering,da,idle,colored,cdrom,bibles,string,prompt,runners,ug,intensity,bowl,excel,mil,void,jerk,uvic,navy,gb,unreliable,duties,thirteen,sympathy,asshole,quarters,destination,intellectually,andy,meter,sw,armory,defects,gmt,231,swear,annoyed,aviation,andre,kodak,whichever,rf,maths,absent,bobby,2k,toys,workshop,ink,absurdity,warfare,cloth,tad,misunderstanding,lu,tempted,generating,correction,psychology,powerplay,memorial,seldom,notions,chelios,wives,insisting,painful,obp,misunderstand,impaired,ns1,willie,gideon,hendricks,steveh,dirt,demon,echo,sect,weaker,irish,trail,seperate,grayscale,designated,cracking,solaris,encyclopedia,drove,angles,prize,charley,pursuit,interior,specifies,backing,prints,stsci,jacob,cheaply,buck,sensors,pathetic,evaluating,alaska,barring,alice,tension,commited,strawberry,rep,token,nd,finder,fist,mattingly,albeit,pts,implementing,brightness,basing,indian,reminded,grab,collision,pains,measuring,vm,dawson,1993apr14,ranges,lineup,cb,fuhr,cincinnati,tocchet,expose,mining,football,delayed,processors,drake,9000,peculiar,favorable,remedy,enterprise,foul,ec,blamed,adjust,infield,landing,api,peripheral,beforehand,owns,kendig,tedward,lang,camel,cobra,corporate,scenes,exhibit,dk,scout,chem,ieee,accurately,civic,philip,scores,bored,discrete,roush,bchm,fierkelab,colin,tcp,marshall,veterans,shearson,ammo,liberals,tyranny,electron,psych,microsoft,iastate,indigo,lbs,wd,grass,enables,deadline,scan,acs,buffers,liu,backwards,crystal,bird,hose,barbara,unrelated,calculation,speeding,wisconsin,eng,packing,299,centerline,islanders,sigma,rbi,moron,blah,stays,lbl,affordable,pitches,vw,midway,wright,fortune,harris,hunting,sphere,v6,ann,processor,gant,sells,amiga,pace,sometime,assaults,yzerman,ported,metro,monash,sol,portal,electric,flaw,cat,metaphor,brakes,bye,woods,scorers,staying,roms,tie,richer,knight,intel,ramsey,tires,peak,preferred,nut,presidential,jokes,pd,uc,cheese,inches,informatik,hst,waving,labour,coded,injected,nail,psi,calendar,ticket,champaign,fuck,ross,warranty,tesla,hou,uiuc,sliding,pdt,caltech,mario,abused,projection,uic,rectangular,cute,ratings,eclipse,slide,allocated,smiley,sigh,negotiated,fuse,fcc,480,mps,inflatable,pressing,llnl,u28037,springs,transfers,tasking,anger,ref,pounds,sweeping,diagram,accounting,1993apr15,agreeing,noone,pixel,spit,fuzzy,70s,tiff,claremont,popping,escapes,coincidence,sez,installing,jeffrey,attributes,publically,spencer,researcher,kitchen,shoes,sg,stable,bos,format,wanting,dartmouth,howland,freshman,leafs,freedoms,laser,que,ncr,apologists,slg,backs,darn,clause,brilliant,dogs,fischer,tapes,miami,overlooked,guessing,340,speaker,outs,accessing,fires,frost,assurance,jagr,ahh,fishing,neural,rode,diagrams,bursts,agnostic,shutout,acns,chunk,stephenson,whining,jupiter,stamp,marijuana,progressive,slick,partition,hernlem,68040,alert,adobe,640,fingers,rating,builds,wallet,decoder,spin,happier,sean,trades,animation,omitted,mayor,davidson,prescription,blurb,slowed,cons,18th,res,billboards,hacker,510,antonio,bite,trick,ritual,endless,athens,reluctant,eaten,os,1800,455,sectors,ain,locking,braking,erik,query,xerox,particle,vagina,compensate,sarah,thier,nearest,coin,becuase,drinks,ctron,inferior,vacuum,gsfc,805,carol,reporter,relativity,shirt,aka,1993apr20,hat,cleaning,con,disclosure,amherst,zoom,515,preferable,gasoline,meets,idbsu,sco,computed,passion,coffey,dash,hack,fonts,placing,loop,distributor,followup,automobiles,castle,sail,starter,fyi,skipjack,bnr,pointer,375,darren,yellow,attended,mohamed,reveals,kratz,basement,tan,liver,substances,allergies,908,bags,hartford,mormon,div,curiosity,artist,behold,junk,losers,exit,cord,wk,hired,1600,lockheed,races,rings,compelled,lung,hulman,solomon,walter,replay,cbc,sweet,zeus,unconstitutional,fixing,josh,grabbed,pressures,freeware,starbase,georgetown,earned,polygons,recieved,matrix,visualization,approx,pricing,nwu,label,grasp,lerc,thats,complains,shade,ld,inputs,utoronto,joel,autos,encoded,ocom,walker,utk,clemens,blocked,song,rider,crashing,embassy,jays,mariners,callback,oakland,liquid,extracted,karl,scream,directional,ambiguous,ads,cursor,arrays,dial,heated,edges,waves,approached,radar,eli,abomination,corrupted,1993apr13,colleagues,eff,winds,stepping,v8,susan,jarvis,deletions,daryl,tongue,printers,phillips,pregnant,asd,frequent,moot,keith,uxa,dividing,cop,aaa,mines,pairs,needing,masks,asleep,patents,accidentally,bold,rpm,tied,accelerate,experiencing,xterm,kinda,viable,chains,tony,uwaterloo,jumps,lecture,luckily,chess,sounding,fitting,jay,wired,gps,tmc,kidney,strings,dance,brains,hypothetical,exercising,twin,bait,plug,orbits,accord,engin,regulate,halfway,greatly,fever,danny,chips,hangs,thumbs,viola,enable,lsd,ultra,stickers,lit,awarded,specially,telnet,lane,acceleration,resolutions,premium,lasted,organism,microsystems,rude,shifting,injection,premises,comets,hurry,wayne,overly,invent,attraction,laurentian,heck,selecting,dorothy,drill,bskendig,mice,trw,lynn,curious,x1,graphic,accusing,pause,olchowy,gui,exceptional,unused,jeremy,brent,infinitely,dayton,automobile,plates,siggraph,reaches,rickey,beer,architect,pulls,10k,elvis,yoyo,liable,voyager,thrust,obliged,transparent,clement,selling,dreams,needless,mitre,outline,medication,advertised,jean,lastly,intercept,consent,todd,efficiency,broadcasts,boomer,gc,smooth,idiotic,keyboards,305,sinner,plastic,titled,pmetzger,char,insured,nus,beloved,ladies,consume,disclaimers,distorted,soda,clue,uwo,segments,monitors,fills,wire,immaculate,cargo,leg,lever,eggs,mantis,sho,olds,5mb,upload,apologies,finnish,thunder,cray,spots,mpg,unclear,storm,complaint,assure,lamp,cancel,detects,ta,bsu,casual,audio,antenna,runner,vitamin,tremendously,formatting,docs,raster,768,ranking,allergic,greed,humble,amen,vl,bradley,lens,tops,evidently,switch,gently,isaac,s3,defensemen,barrasso,bone,usr,usc,tuning,imake,awards,386,boost,ahl,patented,blaze,allegedly,assign,crash,felony,enlighten,lemon,realise,vague,gate,stevens,gladly,pens,5k,dat,nyi,makefile,bastards,trek,darice,alomar,jaeger,buying,upgraded,electromagnetic,austin,fitted,marks,bach,arch,carson,copying,widget,pays,ulowell,decay,scanning,shops,f1,drivel,ow,queries,ariel,650,unexpected,chuck,dean,videotape,external,550,tone,generalizations,defective,xlib,programmable,streak,1993apr12,episode,anyhow,repost,placebo,cit,int,willis,recording,jody,zoo,timing,bottle,expenditures,gothamcity,feedback,operator,dell,clayton,parameter,braves,bgsu,swap,speedy,517,theodore,mcguire,inexpensive,christmas,thru,democrat,capitals,morgan,grateful,ideally,lmsc,427,kansas,startup,csrc,advocated,dodge,mfm,larc,ins,truely,575,cartridges,highlights,sparcstation,leak,chase,resign,1993apr16,bubble,mono,baerga,purchased,clips,reactor,pirates,delta,caching,edgar,wooden,czech,retired,del,sas,schmidt,tricky,dpi,digits,percentages,hrs,rated,partner,exchanged,recorder,hook,swapping,wwc,eecs,susceptible,disappointed,1993apr4,burnt,unhappy,doesnt,micro,tektronix,devout,sr,laptop,invoked,smell,closet,nntp,calculator,ntsc,fake,electrical,mips,laying,kenneth,rear,hip,curtis,slip,alarm,rgb,mask,336,font,cwru,restored,lisa,cents,lousy,keenan,novell,inclined,oilers,amend,overtime,cubic,ni,drain,engineered,transmissions,abc,banks,helmet,gonna,ruin,reinstall,infamous,detect,yuma,huntsville,bucks,caps,cobb,af,wordperfect,scaled,cheat,parking,headline,wri,dialog,cracked,drivers,holland,loudly,yanks,nyx,monu6,paraphrase,trajectory,jamie,settings,yard,tiger,judicial,bounced,shoulder,towers,minerva,terminals,bass,gotta,ssd,csc,howe,ridden,fade,acc,openlook,dodgers,replies,tilt,ucsb,jumbo,incompetent,devils,golchowy,carpet,cohen,monster,commercials,northeastern,sampling,employer,flash,_____,override,taurus,cad,ucar,steam,bellovin,laserjet,8000,heal,drinking,penguins,indirectly,borrow,competitors,fork,lamps,reminds,tire,rll,pops,accessed,steph,sedan,lan,babe,mom,vnet,logitech,multitasking,email,passive,bend,mechanical,atlantaga,eos,annoying,shawn,cae,lone,polygon,strap,targa,ncsu,circa,epson,compaq,faint,albany,ucsu,compensation,hype,thankful,875,rogers,flavor,shop,afterlife,wesleyan,wiretaps,msf,smb,intake,usl,royals,ucs,luxury,cactus,stack,7000,button,adjusting,umd,snail,screws,trim,composite,configure,xt,gif,ncsl,seat,stops,brooks,spare,billboard,castro,jets,purdue,hopper,conditioning,followups,depressed,sei,louisiana,cooler,okcforum,reset,loops,choke,jbrown,cream,trans,lawn,converter,cam,pan,missouri,factory,labeled,anyways,washing,grad,vela,nolan,lap,bil,icons,urbana,osrhe,pertinent,bbs,shading,w165w,rusnews,gear,chrysler,ceccarelli,patent,vintage,plugged,kim,mechanic,x11,cts,setup,shea,port,bowman,fastest,mill,pitchers,handing,acsu,handler,lc,healy,buphy,cso,rectangle,painted,bout,activated,releasing,umanitoba,girlfriend,4800,dps,torque,mcc,sync,hewlett,wolf,rats,cbnewsj,nick,mats,gamma,pluto,xwindows,shaft,tubes,hmmmm,newest,cultists,junior,ysu,tho,horizontally,fm,newshost,amdahl,cant,gordon,phantom,vein,xdm,detector,engr,wash,x11r5,waved,040,xenon,commodore,cylinder,umass,commercially,dma,quest,elizabeth,dll,diskette,disorder,xsun,coaches,xloadimage,volt,champs,deluxe,cared,cardinals,cco,volts,cardinal,rebuilt,voltage,compartment,valves,register,rebuild,clues,catching,registering,disc,clutch,wax,cmuvm,clever,communism,detectors,za,click,cbs,wary,championships,watts,undefined,desqview,depression,colour,advise,psu,realtime,colors,colormap,champions,dal,dallas,registers,cga,desktop,psuvm,cod,yep,distress,yfn,distortion,realy,deskjet,yorku,damnation,colours,ver,1024x768,undergrad,cheapest,watt,enet,z1,detecting,chassis,detailing,queens,rack,combo,emissions,queen,vlb,emit,darkside,yankees,engine,umpire,umpires,underneath,racing,damphousse,emulation,yup,emulator,yards,wholesale,chaos,compatable,1400,copper,wagon,cdt,cooling,refered,dumb,cooking,deck,cellar,dumped,wires,pumping,wheel,ursa,wiretapping,chen,circuits,download,cripple,cigarette,controllers,downloaded,digex,converters,whalers,wiring,eagle,whats,cellular,dx,pump,duh,cordless,vhs,width,uta,designer,crary,cramer,coupe,crashed,childish,covington,cpus,dealership,utsa,dealer,dried,1280x1024,wlsmith,wierd,dryden,dude,duck,debug,rat,purchasing,chevy,drum,dseg,vesselin,uug,crashes,chipset,dram,countersteering,charging,constraints,vesa,constellation,ecs,clearance,definately,valentine,ecn,cleaner,cleared,1100,quicker,vaguely,ccwf,raining,clarkson,config,cleaned,refrain,quantum,wed,curves,valve,agate,radius,cunyvm,compiling,charles,1958,cunixb,ccu,readable,wpi,wpd,diagnostic,alabama,customer,configurations,ctrl,wont,upenn,upgrade,wong,conner,cruel,cruiser,crossposted,dim,victoria,wondered,upgrades,upgrading,wam,vertical,quicktime,pulse,connects,ece,18084tm,rays,connect,ctr,connecting,carlos,weighs,1174,aisun3,refresh,csd,vacation,uoknor,uokmax,derek,headache,envelope,managing,manhattan,manually,phillies,avg,marcus,signals,marlins,philips,sided,720,730,avail,mathew,shrink,philly,maxtor,malcolm,photography,lpl,640x480,64k,annoy,retail,lynx,awhile,68000,mach,macs,macworld,mag,magnus,maine,photoshop,phones,automotive,mazda,autocad,mets,mhz,shafer,shack,mickey,sfu,micron,microphone,microwave,midi,migraine,mileage,seth,mimsy,servicing,shareware,peripherals,messier,850,shore,shopping,837,shocks,shipping,mediocre,megs,lotus,shielding,sherri,mentally,aurora,sheesh,mercedes,revenue,aura,mel,93109,pickup,baalke,spelling,lame,specifics,486sx,pizza,pixmap,4mb,basketball,sox,baseman,pitt,leaf,sorta,50mhz,leaks,kurt,leaning,batter,batteries,beast,kermit,kerosene,khz,kidding,stadium,kinsey,kirk,kit,kits,kjenks,spray,sporty,battery,spokesman,450,leather,525,lehigh,smoother,bake,slows,livesey,slower,pipes,pin,pilots,pilot,lock,locks,slash,announcers,slack,logo,smoothly,lis,snark,snichols,leland,lemieux,solntze,5v,soldering,solder,pissed,loser,levine,socket,lighter,lightly,limitation,linus,snyder,linux,sockets,93111,attending,pegasus,salesman,arromdee,nyc,riding,oasys,rigel,sabres,saab,occuring,ocf,odin,accessories,oit,oklahoma,passenger,nsmca,rumor,accelerators,nova,ninja,nixon,node,noisy,noose,satanic,norman,sarcastic,sarcasm,sank,norton,sandy,riders,sandberg,notify,accelerator,opens,openwindows,rubber,romulus,rolled,pack,packard,packed,padres,pads,parity,paint,pair,appreciate,palette,palmer,paperwork,rle,outputs,outlets,approximate,apps,rub,rtsg,optilink,rri,oracle,rpi,royalroads,accelerated,orchid,arbor,rip,appletalk,orioles,roth,os2,otc,apples,nickname,nichols,nicholas,seller,montana,rhein,montgomery,pds,seizures,_very_,mormons,mot,motherboards,ribbon,motif,moto,motorcycle,motorola,moisture,_any_,_______,moderately,9600,9615,serial,pedal,missile,mitch,mitsubishi,motors,__,___,sensor,mlb,mlee,mnemosyne,rex,modems,mksol,kent,motto,mouse,neal,assholes,nec,neck,needle,schneider,ride,nelson,netnews,assembler,newbie,newer,scanner,newshub,newton,ncratl,ncd,nathan,nate,astros,msd,pcx,msg,mtu,murdoch,seas,mounting,richardson,seals,mwilson,mwm,associations,nah,napalm,scrolling,mustang,canal,kelvin,kaldis,frederick,til,tigers,freenet,frequencies,prism,breathing,throughput,frustrated,fsu,throttle,fucking,breaker,threads,20mb,adjustable,garage,fraser,franchise,proclaiming,1993apr5,1993mar31,floppies,floppy,fnal,foam,bruins,bronx,ford,formatted,toal,forwarded,tis,removable,timmons,gardner,garnet,garrett,tga,gloves,priced,repeating,boyle,golf,aluminum,gosh,2400,grade,ama,terminator,terminated,bothering,replacements,gld,glass,bps,gifs,gatech,printer,alright,gays,gears,gel,brandeis,tossing,thf2,generous,genesis,repair,repaired,adjacent,brake,giants,brand,replacing,1993apr30,1993apr29,examiner,calculate,turbo,tuned,propoganda,exe,tue,admission,executing,ttl,tsr,tseng,exempt,exhaust,trunk,everytime,trumpet,tvtwm,calpoly,uga,providence,alexia,prototype,ericsson,ucdavis,protective,esdi,eskimo,camelot,et4000,camaro,twm,calvin,twins,callison,truecolor,troy,cache,transistor,transformer,bulb,fence,1993apr23,fido,buggy,1993apr24,1993apr25,budgets,remeber,buddy,remedies,1993apr26,1993apr28,translate,1993apr22,bumper,farther,1993apr17,cables,cable,promiscuous,explosive,expos,1993apr18,1993apr3,buyers,1993apr19,exterior,1993apr2,1993apr21,extras,allan,transmitter,buyer,templeton,tempest,grief,indians,receivers,substantiate,infinity,ingr,ingres,init,inning,porsche,studio,andi,inspection,sts,beyer,32bis,bikers,resigned,30k,sucked,sunlight,ignite,summarize,ignition,iici,bitch,birthday,analog,positioning,ports,sugar,inch,sue,sucks,sucking,suck,strnlght,intergraph,interlaced,jimmy,steering,steer,stealth,beeps,beef,joking,joshua,jpg,bedfellow,static,julian,jumpers,beauchaine,jyusenkyou,jhu,stereo,sternlight,jeep,intermittent,interrupt,interrupts,intersection,benchmarks,stratus,iowa,amp,irony,isa,isc,isles,bellcore,pointers,sticky,sticker,stove,ico,supplier,suppliers,bonus,tavares,taste,hart,hassle,hated,hawk,hawks,hcf,amd,bolt,tamu,tall,heating,bobbe,bookstore,taxpayers,prescribed,boom,temp,24bit,gt,gtoal,guessed,tek,teh,tag,teflon,borland,guts,replying,hampshire,han,hank,boot,guitar,keeper,heh,helmets,prb,hood,hooked,amendments,horizontal,surroundings,horsepower,surrender,surplus,hub,hughes,huji,humor,blade,2mb,homers,homer,suspended,holders,prefered,bmp,sys,heterosexual,hex,bmd,higgins,hellman,blues,hints,switches,adapters,hobby,svga,sustained,holder,preferably,zx\n",
      "----\n",
      "There are 205 words in group 1 with a total TCS of 1.882161663588071:\n",
      "use,system,problem,using,work,card,set,16,need,data,machine,disk,computer,software,ram,hard,hardware,memory,works,problems,run,running,drive,help,video,windows,pc,version,dos,files,mode,program,board,speed,bus,screen,cards,controller,486,file,installed,cpu,monitor,please,mac,drives,fine,chip,ide,motherboard,scsi,mail,hd,mb,meg,apple,graphics,vga,driver,modem,vram,anyone,eisa,ati,486dx,bios,diamond,irq,quadra,clone,fpu,dx2,25mhz,slots,simms,baud,slot,keyboard,gateway,ethernet,33mhz,66mhz,simm,800x600,manuals,com1,adapter,centris,486dx2,seagate,adaptec,speedstar,8mb,386sx,sony,68030,24x,nubus,emm386,advance,610,com2,lciii,smartdrv,reboot,connectors,386dx,connector,harddisk,ami,ini,stacker,soldered,circuitry,powerbook,800k,1mb,16mb,coprocessor,hi,viper,256k,dos6,pins,jumper,cica,ipx,cmos,512k,iisi,resistor,truetype,icon,80ns,pentium,autoexec,win3,powerpc,dip,packaging,thanks,soundblaster,adaptor,attach,joystick,uart,ohm,duo,wang,sale,saver,pcb,lcd,panasonic,appreciated,technician,slmr,iivx,trident,laserwriter,c650,cirrus,circuit,dac,boots,olwm,oscillator,gurus,hello,greetings,adb,progman,wondering,victor,plugs,ucsc,amplifier,toshiba,____,amps,_______________________________________________________________________________,ux4,ux1,netland,capacitor,lenses,obo,odometer,ole,outlet,leds,pov,kindly,thanx,jacks,rolls,scoop,forsale,nanao,shopper,cylinders,corel,cats,resistors,12v\n",
      "----\n",
      "There are 15 words in group 2 with a total TCS of 0.8643528613458302:\n",
      "that,is,it,and,of,to,this,in,the,you,for,wheelie,feustel,cassette,kmr4\n",
      "----\n",
      "There are 35 words in group 3 with a total TCS of 0.6796223281389452:\n",
      "he,his,who,him,one,what,skepticism,intellect,chastity,n3jxp,cadre,shameful,dsl,geb,keller,kkeller,quakers,ivy,ulf,trivia,hydra,organpipe,tammy,irvine,uxh,ucalgary,cheers,robbie,parr,espn,fuller,mcs,mcovingt,egreen,biker\n",
      "----\n",
      "There are 19 words in group 4 with a total TCS of 0.4892670086348114:\n",
      "even,because,then,just,up,way,now,much,me,menudo,msus,nissan,scratches,squid,convertible,bigboote,volvo,motorcycles,wrench\n",
      "----\n",
      "There are 10 words in group 5 with a total TCS of 0.463999449130186:\n",
      "people,their,them,we,don,think,your,will,like,mentor\n",
      "----\n",
      "There are 6 words in group 6 with a total TCS of 0.38141525228861156:\n",
      "not,be,but,or,on,can\n",
      "----\n",
      "There are 53 words in group 7 with a total TCS of 0.3741275769978916:\n",
      "more,than,mozumder,snm6394,rit,ultb,ab4z,cse,tranny,postage,cka52397,liter,mojo,mpr,parked,rash,shelley,rust,sandvik,mccullou,subaru,sunroof,syl,toyota,tsn,rockies,maven,1993apr27,yamaha,1993apr6,acpub,behanna,bike,bikes,bmw,bony,cage,cronkite,cubs,lonestar,dod,hamer,harley,harleys,honda,hydro,infante,inline,jaguar,jake,koufax,eliot,yankee\n",
      "----\n",
      "There are 2 words in group 8 with a total TCS of 0.36890414436113095:\n",
      "writes,article\n",
      "----\n",
      "There are 13 words in group 9 with a total TCS of 0.35030988101607713:\n",
      "when,out,had,time,been,my,get,any,know,camry,cds,interceptor,washer\n",
      "----\n",
      "There are 8 words in group 10 with a total TCS of 0.30942800068231724:\n",
      "by,from,were,no,other,bison,inqmind,kirlian\n",
      "----\n",
      "There are 5 words in group 11 with a total TCS of 0.23332265806305819:\n",
      "they,about,an,there,would\n",
      "----\n",
      "There are 6 words in group 12 with a total TCS of 0.15672660999242857:\n",
      "do,if,some,jlevine,unb,uupcb\n",
      "----\n",
      "There are 2 words in group 13 with a total TCS of 0.08757267504154727:\n",
      "all,latech\n",
      "----\n",
      "There are 2 words in group 14 with a total TCS of 0.08417866510904476:\n",
      "with,have\n",
      "----\n",
      "There are 1 words in group 15 with a total TCS of 0.07427114469196701:\n",
      "at\n",
      "----\n",
      "There are 2 words in group 16 with a total TCS of 0.06493322806770668:\n",
      "so,was\n",
      "----\n",
      "There are 1 words in group 17 with a total TCS of 0.04628713307854446:\n",
      "edu\n",
      "----\n",
      "There are 1 words in group 18 with a total TCS of 0.04155243040676632:\n",
      "are\n",
      "----\n",
      "There are 1 words in group 19 with a total TCS of 0.03621473931307518:\n",
      "as\n",
      "----\n"
     ]
    }
   ],
   "source": [
    "for g, words_ in sorted(groups.items(), key=lambda x: x[0]):\n",
    "    print(\"There are {} words in group {} with a total TCS of {}:\\n{}\".format(\n",
    "        len(words_), g, corex_layer_1.tcs[g], \",\".join(list(map(lambda x: i2w[int(x[0])], words_)))\n",
    "        )\n",
    "    )\n",
    "    print(\"----\")"
   ]
  }
 ],
 "metadata": {
  "kernelspec": {
   "display_name": "Python 3",
   "language": "python",
   "name": "python3"
  },
  "language_info": {
   "codemirror_mode": {
    "name": "ipython",
    "version": 3
   },
   "file_extension": ".py",
   "mimetype": "text/x-python",
   "name": "python",
   "nbconvert_exporter": "python",
   "pygments_lexer": "ipython3",
   "version": "3.6.2"
  }
 },
 "nbformat": 4,
 "nbformat_minor": 2
}
